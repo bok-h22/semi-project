{
  "cells": [
    {
      "cell_type": "markdown",
      "metadata": {
        "id": "view-in-github",
        "colab_type": "text"
      },
      "source": [
        "<a href=\"https://colab.research.google.com/github/bok-h22/semi-project/blob/master/API_%ED%99%9C%EC%9A%A9_1_(1).ipynb\" target=\"_parent\"><img src=\"https://colab.research.google.com/assets/colab-badge.svg\" alt=\"Open In Colab\"/></a>"
      ]
    },
    {
      "cell_type": "code",
      "source": [
        "import pandas as pd\n",
        "import matplotlib.pyplot as plt\n",
        "import seaborn as sns\n",
        "\n",
        "exdata = pd.read_csv(\"/content/훈련용 데이터.csv\", encoding='cp949')\n",
        "exdata = exdata.sort_values('value', ascending = False)\n",
        "exdata"
      ],
      "metadata": {
        "id": "kx99n-MsFHTL"
      },
      "execution_count": null,
      "outputs": []
    },
    {
      "cell_type": "code",
      "source": [
        "bot = pd.read_csv(\"/content/BOTTOM 15 행정동.csv\", encoding='cp949')\n",
        "top = pd.read_csv(\"/content/TOP 15 행정동.csv\", encoding='cp949')"
      ],
      "metadata": {
        "id": "aUPRgw-2HcDs"
      },
      "execution_count": null,
      "outputs": []
    },
    {
      "cell_type": "code",
      "source": [
        "bot15 = exdata[-15:]\n",
        "top15 = exdata[:15]"
      ],
      "metadata": {
        "id": "gU7_R-CtHety"
      },
      "execution_count": null,
      "outputs": []
    },
    {
      "cell_type": "code",
      "source": [
        "top15.rename(columns = {'가구유형': '주택 수'}, inplace = True)\n",
        "bot15.rename(columns = {'가구유형': '주택 수'}, inplace = True)"
      ],
      "metadata": {
        "colab": {
          "base_uri": "https://localhost:8080/"
        },
        "id": "zY3F_uNnO2JN",
        "outputId": "7ce2e785-27e9-475e-fb90-a875c95f5f40"
      },
      "execution_count": null,
      "outputs": [
        {
          "output_type": "stream",
          "name": "stderr",
          "text": [
            "<ipython-input-16-71c13437681b>:1: SettingWithCopyWarning: \n",
            "A value is trying to be set on a copy of a slice from a DataFrame\n",
            "\n",
            "See the caveats in the documentation: https://pandas.pydata.org/pandas-docs/stable/user_guide/indexing.html#returning-a-view-versus-a-copy\n",
            "  top15.rename(columns = {'가구유형': '주택 수'}, inplace = True)\n",
            "<ipython-input-16-71c13437681b>:2: SettingWithCopyWarning: \n",
            "A value is trying to be set on a copy of a slice from a DataFrame\n",
            "\n",
            "See the caveats in the documentation: https://pandas.pydata.org/pandas-docs/stable/user_guide/indexing.html#returning-a-view-versus-a-copy\n",
            "  bot15.rename(columns = {'가구유형': '주택 수'}, inplace = True)\n"
          ]
        }
      ]
    },
    {
      "cell_type": "code",
      "source": [
        "import numpy as np\n",
        "\n",
        "top15_mean = np.mean(top15[['30~59세 인구', '평균 버스 이용량 (명)', '수요', '인프라', '경제', '비만도 분포', '1~2인가구', '3인 가구 이상', '주택 수']])\n",
        "top15_mean['구분'] = '상위 15개 매장'\n",
        "\n",
        "bot15_mean = np.mean(bot15[['30~59세 인구', '평균 버스 이용량 (명)', '수요', '인프라', '경제', '비만도 분포', '1~2인가구', '3인 가구 이상', '주택 수']])\n",
        "bot15_mean['구분'] = '하위 15개 매장'\n",
        "\n",
        "ex_df =pd.DataFrame([top15_mean, bot15_mean])\n",
        "ex_df"
      ],
      "metadata": {
        "colab": {
          "base_uri": "https://localhost:8080/",
          "height": 300
        },
        "id": "LH3P0kfPJud9",
        "outputId": "44860b43-ab02-481d-d77c-137efa57b907"
      },
      "execution_count": null,
      "outputs": [
        {
          "output_type": "stream",
          "name": "stderr",
          "text": [
            "/usr/local/lib/python3.10/dist-packages/numpy/core/fromnumeric.py:3472: FutureWarning: In a future version, DataFrame.mean(axis=None) will return a scalar mean over the entire DataFrame. To retain the old behavior, use 'frame.mean(axis=0)' or just 'frame.mean()'\n",
            "  return mean(axis=axis, dtype=dtype, out=out, **kwargs)\n",
            "/usr/local/lib/python3.10/dist-packages/numpy/core/fromnumeric.py:3472: FutureWarning: In a future version, DataFrame.mean(axis=None) will return a scalar mean over the entire DataFrame. To retain the old behavior, use 'frame.mean(axis=0)' or just 'frame.mean()'\n",
            "  return mean(axis=axis, dtype=dtype, out=out, **kwargs)\n"
          ]
        },
        {
          "output_type": "execute_result",
          "data": {
            "text/plain": [
              "   30~59세 인구  평균 버스 이용량 (명)        수요       인프라        경제    비만도 분포    1~2인가구  \\\n",
              "0   0.167541      -0.189206 -0.436282 -0.536352 -0.109729 -0.226579 -0.301183   \n",
              "1   0.087270       0.414957 -0.111412  0.011240 -0.025872  0.418997  0.277811   \n",
              "\n",
              "   3인 가구 이상      주택 수         구분  \n",
              "0  0.405653 -0.112631  상위 15개 매장  \n",
              "1  0.012411  0.600977  하위 15개 매장  "
            ],
            "text/html": [
              "\n",
              "  <div id=\"df-27c9e4cf-4a29-4714-93f5-e75097d84b3a\">\n",
              "    <div class=\"colab-df-container\">\n",
              "      <div>\n",
              "<style scoped>\n",
              "    .dataframe tbody tr th:only-of-type {\n",
              "        vertical-align: middle;\n",
              "    }\n",
              "\n",
              "    .dataframe tbody tr th {\n",
              "        vertical-align: top;\n",
              "    }\n",
              "\n",
              "    .dataframe thead th {\n",
              "        text-align: right;\n",
              "    }\n",
              "</style>\n",
              "<table border=\"1\" class=\"dataframe\">\n",
              "  <thead>\n",
              "    <tr style=\"text-align: right;\">\n",
              "      <th></th>\n",
              "      <th>30~59세 인구</th>\n",
              "      <th>평균 버스 이용량 (명)</th>\n",
              "      <th>수요</th>\n",
              "      <th>인프라</th>\n",
              "      <th>경제</th>\n",
              "      <th>비만도 분포</th>\n",
              "      <th>1~2인가구</th>\n",
              "      <th>3인 가구 이상</th>\n",
              "      <th>주택 수</th>\n",
              "      <th>구분</th>\n",
              "    </tr>\n",
              "  </thead>\n",
              "  <tbody>\n",
              "    <tr>\n",
              "      <th>0</th>\n",
              "      <td>0.167541</td>\n",
              "      <td>-0.189206</td>\n",
              "      <td>-0.436282</td>\n",
              "      <td>-0.536352</td>\n",
              "      <td>-0.109729</td>\n",
              "      <td>-0.226579</td>\n",
              "      <td>-0.301183</td>\n",
              "      <td>0.405653</td>\n",
              "      <td>-0.112631</td>\n",
              "      <td>상위 15개 매장</td>\n",
              "    </tr>\n",
              "    <tr>\n",
              "      <th>1</th>\n",
              "      <td>0.087270</td>\n",
              "      <td>0.414957</td>\n",
              "      <td>-0.111412</td>\n",
              "      <td>0.011240</td>\n",
              "      <td>-0.025872</td>\n",
              "      <td>0.418997</td>\n",
              "      <td>0.277811</td>\n",
              "      <td>0.012411</td>\n",
              "      <td>0.600977</td>\n",
              "      <td>하위 15개 매장</td>\n",
              "    </tr>\n",
              "  </tbody>\n",
              "</table>\n",
              "</div>\n",
              "      <button class=\"colab-df-convert\" onclick=\"convertToInteractive('df-27c9e4cf-4a29-4714-93f5-e75097d84b3a')\"\n",
              "              title=\"Convert this dataframe to an interactive table.\"\n",
              "              style=\"display:none;\">\n",
              "        \n",
              "  <svg xmlns=\"http://www.w3.org/2000/svg\" height=\"24px\"viewBox=\"0 0 24 24\"\n",
              "       width=\"24px\">\n",
              "    <path d=\"M0 0h24v24H0V0z\" fill=\"none\"/>\n",
              "    <path d=\"M18.56 5.44l.94 2.06.94-2.06 2.06-.94-2.06-.94-.94-2.06-.94 2.06-2.06.94zm-11 1L8.5 8.5l.94-2.06 2.06-.94-2.06-.94L8.5 2.5l-.94 2.06-2.06.94zm10 10l.94 2.06.94-2.06 2.06-.94-2.06-.94-.94-2.06-.94 2.06-2.06.94z\"/><path d=\"M17.41 7.96l-1.37-1.37c-.4-.4-.92-.59-1.43-.59-.52 0-1.04.2-1.43.59L10.3 9.45l-7.72 7.72c-.78.78-.78 2.05 0 2.83L4 21.41c.39.39.9.59 1.41.59.51 0 1.02-.2 1.41-.59l7.78-7.78 2.81-2.81c.8-.78.8-2.07 0-2.86zM5.41 20L4 18.59l7.72-7.72 1.47 1.35L5.41 20z\"/>\n",
              "  </svg>\n",
              "      </button>\n",
              "      \n",
              "  <style>\n",
              "    .colab-df-container {\n",
              "      display:flex;\n",
              "      flex-wrap:wrap;\n",
              "      gap: 12px;\n",
              "    }\n",
              "\n",
              "    .colab-df-convert {\n",
              "      background-color: #E8F0FE;\n",
              "      border: none;\n",
              "      border-radius: 50%;\n",
              "      cursor: pointer;\n",
              "      display: none;\n",
              "      fill: #1967D2;\n",
              "      height: 32px;\n",
              "      padding: 0 0 0 0;\n",
              "      width: 32px;\n",
              "    }\n",
              "\n",
              "    .colab-df-convert:hover {\n",
              "      background-color: #E2EBFA;\n",
              "      box-shadow: 0px 1px 2px rgba(60, 64, 67, 0.3), 0px 1px 3px 1px rgba(60, 64, 67, 0.15);\n",
              "      fill: #174EA6;\n",
              "    }\n",
              "\n",
              "    [theme=dark] .colab-df-convert {\n",
              "      background-color: #3B4455;\n",
              "      fill: #D2E3FC;\n",
              "    }\n",
              "\n",
              "    [theme=dark] .colab-df-convert:hover {\n",
              "      background-color: #434B5C;\n",
              "      box-shadow: 0px 1px 3px 1px rgba(0, 0, 0, 0.15);\n",
              "      filter: drop-shadow(0px 1px 2px rgba(0, 0, 0, 0.3));\n",
              "      fill: #FFFFFF;\n",
              "    }\n",
              "  </style>\n",
              "\n",
              "      <script>\n",
              "        const buttonEl =\n",
              "          document.querySelector('#df-27c9e4cf-4a29-4714-93f5-e75097d84b3a button.colab-df-convert');\n",
              "        buttonEl.style.display =\n",
              "          google.colab.kernel.accessAllowed ? 'block' : 'none';\n",
              "\n",
              "        async function convertToInteractive(key) {\n",
              "          const element = document.querySelector('#df-27c9e4cf-4a29-4714-93f5-e75097d84b3a');\n",
              "          const dataTable =\n",
              "            await google.colab.kernel.invokeFunction('convertToInteractive',\n",
              "                                                     [key], {});\n",
              "          if (!dataTable) return;\n",
              "\n",
              "          const docLinkHtml = 'Like what you see? Visit the ' +\n",
              "            '<a target=\"_blank\" href=https://colab.research.google.com/notebooks/data_table.ipynb>data table notebook</a>'\n",
              "            + ' to learn more about interactive tables.';\n",
              "          element.innerHTML = '';\n",
              "          dataTable['output_type'] = 'display_data';\n",
              "          await google.colab.output.renderOutput(dataTable, element);\n",
              "          const docLink = document.createElement('div');\n",
              "          docLink.innerHTML = docLinkHtml;\n",
              "          element.appendChild(docLink);\n",
              "        }\n",
              "      </script>\n",
              "    </div>\n",
              "  </div>\n",
              "  "
            ]
          },
          "metadata": {},
          "execution_count": 17
        }
      ]
    },
    {
      "cell_type": "code",
      "source": [
        "ex_melt = pd.melt(ex_df, id_vars=['구분'], value_vars=['30~59세 인구', '평균 버스 이용량 (명)', '수요', '인프라', '경제', '비만도 분포', '1~2인가구', '3인 가구 이상', '주택 수']).sort_values('구분')\n",
        "ex_melt"
      ],
      "metadata": {
        "colab": {
          "base_uri": "https://localhost:8080/",
          "height": 613
        },
        "id": "_pyb5hpGH_oC",
        "outputId": "eb0a6707-e249-48d4-e912-0987900ecca0"
      },
      "execution_count": null,
      "outputs": [
        {
          "output_type": "execute_result",
          "data": {
            "text/plain": [
              "           구분       variable     value\n",
              "0   상위 15개 매장      30~59세 인구  0.167541\n",
              "14  상위 15개 매장       3인 가구 이상  0.405653\n",
              "12  상위 15개 매장         1~2인가구 -0.301183\n",
              "10  상위 15개 매장         비만도 분포 -0.226579\n",
              "16  상위 15개 매장           주택 수 -0.112631\n",
              "6   상위 15개 매장            인프라 -0.536352\n",
              "8   상위 15개 매장             경제 -0.109729\n",
              "4   상위 15개 매장             수요 -0.436282\n",
              "2   상위 15개 매장  평균 버스 이용량 (명) -0.189206\n",
              "7   하위 15개 매장            인프라  0.011240\n",
              "9   하위 15개 매장             경제 -0.025872\n",
              "3   하위 15개 매장  평균 버스 이용량 (명)  0.414957\n",
              "11  하위 15개 매장         비만도 분포  0.418997\n",
              "13  하위 15개 매장         1~2인가구  0.277811\n",
              "1   하위 15개 매장      30~59세 인구  0.087270\n",
              "15  하위 15개 매장       3인 가구 이상  0.012411\n",
              "5   하위 15개 매장             수요 -0.111412\n",
              "17  하위 15개 매장           주택 수  0.600977"
            ],
            "text/html": [
              "\n",
              "  <div id=\"df-8db1905c-e2b8-4c9e-a722-2f72fa887aa1\">\n",
              "    <div class=\"colab-df-container\">\n",
              "      <div>\n",
              "<style scoped>\n",
              "    .dataframe tbody tr th:only-of-type {\n",
              "        vertical-align: middle;\n",
              "    }\n",
              "\n",
              "    .dataframe tbody tr th {\n",
              "        vertical-align: top;\n",
              "    }\n",
              "\n",
              "    .dataframe thead th {\n",
              "        text-align: right;\n",
              "    }\n",
              "</style>\n",
              "<table border=\"1\" class=\"dataframe\">\n",
              "  <thead>\n",
              "    <tr style=\"text-align: right;\">\n",
              "      <th></th>\n",
              "      <th>구분</th>\n",
              "      <th>variable</th>\n",
              "      <th>value</th>\n",
              "    </tr>\n",
              "  </thead>\n",
              "  <tbody>\n",
              "    <tr>\n",
              "      <th>0</th>\n",
              "      <td>상위 15개 매장</td>\n",
              "      <td>30~59세 인구</td>\n",
              "      <td>0.167541</td>\n",
              "    </tr>\n",
              "    <tr>\n",
              "      <th>14</th>\n",
              "      <td>상위 15개 매장</td>\n",
              "      <td>3인 가구 이상</td>\n",
              "      <td>0.405653</td>\n",
              "    </tr>\n",
              "    <tr>\n",
              "      <th>12</th>\n",
              "      <td>상위 15개 매장</td>\n",
              "      <td>1~2인가구</td>\n",
              "      <td>-0.301183</td>\n",
              "    </tr>\n",
              "    <tr>\n",
              "      <th>10</th>\n",
              "      <td>상위 15개 매장</td>\n",
              "      <td>비만도 분포</td>\n",
              "      <td>-0.226579</td>\n",
              "    </tr>\n",
              "    <tr>\n",
              "      <th>16</th>\n",
              "      <td>상위 15개 매장</td>\n",
              "      <td>주택 수</td>\n",
              "      <td>-0.112631</td>\n",
              "    </tr>\n",
              "    <tr>\n",
              "      <th>6</th>\n",
              "      <td>상위 15개 매장</td>\n",
              "      <td>인프라</td>\n",
              "      <td>-0.536352</td>\n",
              "    </tr>\n",
              "    <tr>\n",
              "      <th>8</th>\n",
              "      <td>상위 15개 매장</td>\n",
              "      <td>경제</td>\n",
              "      <td>-0.109729</td>\n",
              "    </tr>\n",
              "    <tr>\n",
              "      <th>4</th>\n",
              "      <td>상위 15개 매장</td>\n",
              "      <td>수요</td>\n",
              "      <td>-0.436282</td>\n",
              "    </tr>\n",
              "    <tr>\n",
              "      <th>2</th>\n",
              "      <td>상위 15개 매장</td>\n",
              "      <td>평균 버스 이용량 (명)</td>\n",
              "      <td>-0.189206</td>\n",
              "    </tr>\n",
              "    <tr>\n",
              "      <th>7</th>\n",
              "      <td>하위 15개 매장</td>\n",
              "      <td>인프라</td>\n",
              "      <td>0.011240</td>\n",
              "    </tr>\n",
              "    <tr>\n",
              "      <th>9</th>\n",
              "      <td>하위 15개 매장</td>\n",
              "      <td>경제</td>\n",
              "      <td>-0.025872</td>\n",
              "    </tr>\n",
              "    <tr>\n",
              "      <th>3</th>\n",
              "      <td>하위 15개 매장</td>\n",
              "      <td>평균 버스 이용량 (명)</td>\n",
              "      <td>0.414957</td>\n",
              "    </tr>\n",
              "    <tr>\n",
              "      <th>11</th>\n",
              "      <td>하위 15개 매장</td>\n",
              "      <td>비만도 분포</td>\n",
              "      <td>0.418997</td>\n",
              "    </tr>\n",
              "    <tr>\n",
              "      <th>13</th>\n",
              "      <td>하위 15개 매장</td>\n",
              "      <td>1~2인가구</td>\n",
              "      <td>0.277811</td>\n",
              "    </tr>\n",
              "    <tr>\n",
              "      <th>1</th>\n",
              "      <td>하위 15개 매장</td>\n",
              "      <td>30~59세 인구</td>\n",
              "      <td>0.087270</td>\n",
              "    </tr>\n",
              "    <tr>\n",
              "      <th>15</th>\n",
              "      <td>하위 15개 매장</td>\n",
              "      <td>3인 가구 이상</td>\n",
              "      <td>0.012411</td>\n",
              "    </tr>\n",
              "    <tr>\n",
              "      <th>5</th>\n",
              "      <td>하위 15개 매장</td>\n",
              "      <td>수요</td>\n",
              "      <td>-0.111412</td>\n",
              "    </tr>\n",
              "    <tr>\n",
              "      <th>17</th>\n",
              "      <td>하위 15개 매장</td>\n",
              "      <td>주택 수</td>\n",
              "      <td>0.600977</td>\n",
              "    </tr>\n",
              "  </tbody>\n",
              "</table>\n",
              "</div>\n",
              "      <button class=\"colab-df-convert\" onclick=\"convertToInteractive('df-8db1905c-e2b8-4c9e-a722-2f72fa887aa1')\"\n",
              "              title=\"Convert this dataframe to an interactive table.\"\n",
              "              style=\"display:none;\">\n",
              "        \n",
              "  <svg xmlns=\"http://www.w3.org/2000/svg\" height=\"24px\"viewBox=\"0 0 24 24\"\n",
              "       width=\"24px\">\n",
              "    <path d=\"M0 0h24v24H0V0z\" fill=\"none\"/>\n",
              "    <path d=\"M18.56 5.44l.94 2.06.94-2.06 2.06-.94-2.06-.94-.94-2.06-.94 2.06-2.06.94zm-11 1L8.5 8.5l.94-2.06 2.06-.94-2.06-.94L8.5 2.5l-.94 2.06-2.06.94zm10 10l.94 2.06.94-2.06 2.06-.94-2.06-.94-.94-2.06-.94 2.06-2.06.94z\"/><path d=\"M17.41 7.96l-1.37-1.37c-.4-.4-.92-.59-1.43-.59-.52 0-1.04.2-1.43.59L10.3 9.45l-7.72 7.72c-.78.78-.78 2.05 0 2.83L4 21.41c.39.39.9.59 1.41.59.51 0 1.02-.2 1.41-.59l7.78-7.78 2.81-2.81c.8-.78.8-2.07 0-2.86zM5.41 20L4 18.59l7.72-7.72 1.47 1.35L5.41 20z\"/>\n",
              "  </svg>\n",
              "      </button>\n",
              "      \n",
              "  <style>\n",
              "    .colab-df-container {\n",
              "      display:flex;\n",
              "      flex-wrap:wrap;\n",
              "      gap: 12px;\n",
              "    }\n",
              "\n",
              "    .colab-df-convert {\n",
              "      background-color: #E8F0FE;\n",
              "      border: none;\n",
              "      border-radius: 50%;\n",
              "      cursor: pointer;\n",
              "      display: none;\n",
              "      fill: #1967D2;\n",
              "      height: 32px;\n",
              "      padding: 0 0 0 0;\n",
              "      width: 32px;\n",
              "    }\n",
              "\n",
              "    .colab-df-convert:hover {\n",
              "      background-color: #E2EBFA;\n",
              "      box-shadow: 0px 1px 2px rgba(60, 64, 67, 0.3), 0px 1px 3px 1px rgba(60, 64, 67, 0.15);\n",
              "      fill: #174EA6;\n",
              "    }\n",
              "\n",
              "    [theme=dark] .colab-df-convert {\n",
              "      background-color: #3B4455;\n",
              "      fill: #D2E3FC;\n",
              "    }\n",
              "\n",
              "    [theme=dark] .colab-df-convert:hover {\n",
              "      background-color: #434B5C;\n",
              "      box-shadow: 0px 1px 3px 1px rgba(0, 0, 0, 0.15);\n",
              "      filter: drop-shadow(0px 1px 2px rgba(0, 0, 0, 0.3));\n",
              "      fill: #FFFFFF;\n",
              "    }\n",
              "  </style>\n",
              "\n",
              "      <script>\n",
              "        const buttonEl =\n",
              "          document.querySelector('#df-8db1905c-e2b8-4c9e-a722-2f72fa887aa1 button.colab-df-convert');\n",
              "        buttonEl.style.display =\n",
              "          google.colab.kernel.accessAllowed ? 'block' : 'none';\n",
              "\n",
              "        async function convertToInteractive(key) {\n",
              "          const element = document.querySelector('#df-8db1905c-e2b8-4c9e-a722-2f72fa887aa1');\n",
              "          const dataTable =\n",
              "            await google.colab.kernel.invokeFunction('convertToInteractive',\n",
              "                                                     [key], {});\n",
              "          if (!dataTable) return;\n",
              "\n",
              "          const docLinkHtml = 'Like what you see? Visit the ' +\n",
              "            '<a target=\"_blank\" href=https://colab.research.google.com/notebooks/data_table.ipynb>data table notebook</a>'\n",
              "            + ' to learn more about interactive tables.';\n",
              "          element.innerHTML = '';\n",
              "          dataTable['output_type'] = 'display_data';\n",
              "          await google.colab.output.renderOutput(dataTable, element);\n",
              "          const docLink = document.createElement('div');\n",
              "          docLink.innerHTML = docLinkHtml;\n",
              "          element.appendChild(docLink);\n",
              "        }\n",
              "      </script>\n",
              "    </div>\n",
              "  </div>\n",
              "  "
            ]
          },
          "metadata": {},
          "execution_count": 19
        }
      ]
    },
    {
      "cell_type": "code",
      "source": [],
      "metadata": {
        "colab": {
          "base_uri": "https://localhost:8080/",
          "height": 80
        },
        "id": "HnWOg84nVGWo",
        "outputId": "d8b7f3e0-8a9b-4a08-a880-29a138112b39"
      },
      "execution_count": null,
      "outputs": [
        {
          "output_type": "display_data",
          "data": {
            "text/plain": [
              "<Figure size 2000x100 with 1 Axes>"
            ],
            "image/png": "[encoded data removed]"
          },
          "metadata": {}
        }
      ]
    },
    {
      "cell_type": "code",
      "source": [
        "sns.barplot(x='variable', \n",
        "            y='value', \n",
        "            data=ex_melt, \n",
        "            hue='구분', \n",
        "            palette=sns.blend_palette(['red', 'blue'],2))\n",
        "plt.xticks(rotation = 45)\n",
        "plt.xlabel(' ')\n",
        "plt.ylabel(' ')\n",
        "plt.ylim(-.7,0.8)"
      ],
      "metadata": {
        "colab": {
          "base_uri": "https://localhost:8080/",
          "height": 554
        },
        "id": "frpEirESH_ka",
        "outputId": "f144d622-e6ad-4376-d76a-e755f7c309a8"
      },
      "execution_count": null,
      "outputs": [
        {
          "output_type": "execute_result",
          "data": {
            "text/plain": [
              "(-0.7, 0.8)"
            ]
          },
          "metadata": {},
          "execution_count": 33
        },
        {
          "output_type": "display_data",
          "data": {
            "text/plain": [
              "<Figure size 640x480 with 1 Axes>"
            ],
            "image/png": "[encoded data removed]"
          },
          "metadata": {}
        }
      ]
    },
    {
      "cell_type": "code",
      "source": [
        "top10_mean.drop('구분', inplace=True)\n",
        "bot10_mean.drop('구분', inplace=True)"
      ],
      "metadata": {
        "id": "5F_Iq6AiUKr-"
      },
      "execution_count": null,
      "outputs": []
    },
    {
      "cell_type": "code",
      "source": [
        "import matplotlib.pyplot as plt\n",
        "import seaborn as sns\n",
        "\n",
        "columns = ['30~59세 인구', '평균 버스 이용량 (명)', '수요', '인프라', '경제', '비만도 분포', '1~2인가구', '3인 가구 이상', '가구유형']\n",
        "\n",
        "plt.figure(figsize=(15,6))\n",
        "plt.rc('font', family='NanumBarunGothic') \n",
        "plt.plot(top10_mean, marker='H', linestyle='-', color='r')\n",
        "plt.plot(bot10_mean, marker='H', linestyle='-', color='b')\n",
        "\n",
        "plt.legend([\"상위 10개 매장\", \"하위 10개 매장\"])\n",
        "plt.show()"
      ],
      "metadata": {
        "colab": {
          "base_uri": "https://localhost:8080/",
          "height": 420
        },
        "id": "b86zATtETwvY",
        "outputId": "c3646c73-1621-403d-ffd5-9c9f7762addd"
      },
      "execution_count": null,
      "outputs": [
        {
          "output_type": "display_data",
          "data": {
            "text/plain": [
              "<Figure size 1500x600 with 1 Axes>"
            ],
            "image/png": "[encoded data removed]"
          },
          "metadata": {}
        }
      ]
    },
    {
      "cell_type": "code",
      "source": [],
      "metadata": {
        "id": "TJlvKFqmT5Ws"
      },
      "execution_count": null,
      "outputs": []
    },
    {
      "cell_type": "code",
      "source": [],
      "metadata": {
        "id": "yj6nPJgLT5Cq"
      },
      "execution_count": null,
      "outputs": []
    },
    {
      "cell_type": "code",
      "source": [],
      "metadata": {
        "id": "SaoLVT8LH_hL"
      },
      "execution_count": null,
      "outputs": []
    },
    {
      "cell_type": "code",
      "source": [
        "# 한글 출력\n",
        "\n",
        "#!sudo apt-get install -y fonts-nanum\n",
        "#!sudo fc-cache -fv\n",
        "#!rm ~/.cache/matplotlib -rf\n",
        "\n",
        "import matplotlib.pyplot as plt\n",
        "\n",
        "plt.rc('font', family='NanumBarunGothic') "
      ],
      "metadata": {
        "id": "oVqI9nEJGaGw"
      },
      "execution_count": null,
      "outputs": []
    },
    {
      "cell_type": "code",
      "source": [
        "# 마이너스 부호\n",
        "\n",
        "import matplotlib\n",
        "matplotlib.rcParams['axes.unicode_minus'] = False"
      ],
      "metadata": {
        "id": "GjEA1nTvGcku"
      },
      "execution_count": null,
      "outputs": []
    },
    {
      "cell_type": "code",
      "source": [],
      "metadata": {
        "id": "vEIKdOKeG9bg"
      },
      "execution_count": null,
      "outputs": []
    },
    {
      "cell_type": "code",
      "source": [
        "sns.barplot(x=\"인프라\", y=\"행정동\", data=top5, hue='행정동')\n",
        "plt.title(\"밀키트 입지요인 분석 상위 15곳 선정\\n\")\n",
        "plt.xlabel('1인당 평균 재방문 횟수')\n",
        "plt.ylabel('')\n",
        "plt.tick_params(axis='x', labelsize=8)\n",
        "plt.tick_params(axis='y', labelsize=8)\n",
        "plt.xlim(0, 3.0)\n",
        "plt.show()"
      ],
      "metadata": {
        "id": "nKsvhBLPGhtQ"
      },
      "execution_count": null,
      "outputs": []
    },
    {
      "cell_type": "markdown",
      "metadata": {
        "id": "tZxGdRuKA0VO"
      },
      "source": [
        "#카카오 맵 API"
      ]
    },
    {
      "cell_type": "code",
      "execution_count": null,
      "metadata": {
        "colab": {
          "base_uri": "https://localhost:8080/"
        },
        "id": "mRCClbpYA0VO",
        "outputId": "75c05a2e-d308-49c7-c1ab-78d391e0451e"
      },
      "outputs": [
        {
          "output_type": "execute_result",
          "data": {
            "text/plain": [
              "[['인헌동', 1, 37.49467008, 127.0551499],\n",
              " ['인헌동', 2, 37.49214521, 127.0593771],\n",
              " ['인헌동', 3, 37.4962711, 127.0607826],\n",
              " ['보라매동', 1, 37.49219235, 126.928173],\n",
              " ['보라매동', 2, 37.49064533, 126.9327653],\n",
              " ['보라매동', 3, 37.48755687, 126.9363863]]"
            ]
          },
          "metadata": {},
          "execution_count": 34
        }
      ],
      "source": [
        "#담꾹 좌표 불러오기\n",
        "import pandas as pd\n",
        "x_y = pd.read_csv('/content/예측 행정동 좌표_최종.csv', encoding='cp949').values.tolist()\n",
        "x_y"
      ]
    },
    {
      "cell_type": "code",
      "execution_count": null,
      "metadata": {
        "id": "INBIv3sFCMXb",
        "colab": {
          "base_uri": "https://localhost:8080/",
          "height": 237
        },
        "outputId": "3528a11c-e8d9-43d8-abef-4f3a9ff8c1b3"
      },
      "outputs": [
        {
          "output_type": "execute_result",
          "data": {
            "text/plain": [
              "    행정동  지점  인근 편의점 수\n",
              "0   인헌동   1        16\n",
              "1   인헌동   2        10\n",
              "2   인헌동   3        25\n",
              "3  보라매동   1        25\n",
              "4  보라매동   2        20\n",
              "5  보라매동   3        20"
            ],
            "text/html": [
              "\n",
              "  <div id=\"df-9f144498-bf01-445a-83e2-9aede41c46be\">\n",
              "    <div class=\"colab-df-container\">\n",
              "      <div>\n",
              "<style scoped>\n",
              "    .dataframe tbody tr th:only-of-type {\n",
              "        vertical-align: middle;\n",
              "    }\n",
              "\n",
              "    .dataframe tbody tr th {\n",
              "        vertical-align: top;\n",
              "    }\n",
              "\n",
              "    .dataframe thead th {\n",
              "        text-align: right;\n",
              "    }\n",
              "</style>\n",
              "<table border=\"1\" class=\"dataframe\">\n",
              "  <thead>\n",
              "    <tr style=\"text-align: right;\">\n",
              "      <th></th>\n",
              "      <th>행정동</th>\n",
              "      <th>지점</th>\n",
              "      <th>인근 편의점 수</th>\n",
              "    </tr>\n",
              "  </thead>\n",
              "  <tbody>\n",
              "    <tr>\n",
              "      <th>0</th>\n",
              "      <td>인헌동</td>\n",
              "      <td>1</td>\n",
              "      <td>16</td>\n",
              "    </tr>\n",
              "    <tr>\n",
              "      <th>1</th>\n",
              "      <td>인헌동</td>\n",
              "      <td>2</td>\n",
              "      <td>10</td>\n",
              "    </tr>\n",
              "    <tr>\n",
              "      <th>2</th>\n",
              "      <td>인헌동</td>\n",
              "      <td>3</td>\n",
              "      <td>25</td>\n",
              "    </tr>\n",
              "    <tr>\n",
              "      <th>3</th>\n",
              "      <td>보라매동</td>\n",
              "      <td>1</td>\n",
              "      <td>25</td>\n",
              "    </tr>\n",
              "    <tr>\n",
              "      <th>4</th>\n",
              "      <td>보라매동</td>\n",
              "      <td>2</td>\n",
              "      <td>20</td>\n",
              "    </tr>\n",
              "    <tr>\n",
              "      <th>5</th>\n",
              "      <td>보라매동</td>\n",
              "      <td>3</td>\n",
              "      <td>20</td>\n",
              "    </tr>\n",
              "  </tbody>\n",
              "</table>\n",
              "</div>\n",
              "      <button class=\"colab-df-convert\" onclick=\"convertToInteractive('df-9f144498-bf01-445a-83e2-9aede41c46be')\"\n",
              "              title=\"Convert this dataframe to an interactive table.\"\n",
              "              style=\"display:none;\">\n",
              "        \n",
              "  <svg xmlns=\"http://www.w3.org/2000/svg\" height=\"24px\"viewBox=\"0 0 24 24\"\n",
              "       width=\"24px\">\n",
              "    <path d=\"M0 0h24v24H0V0z\" fill=\"none\"/>\n",
              "    <path d=\"M18.56 5.44l.94 2.06.94-2.06 2.06-.94-2.06-.94-.94-2.06-.94 2.06-2.06.94zm-11 1L8.5 8.5l.94-2.06 2.06-.94-2.06-.94L8.5 2.5l-.94 2.06-2.06.94zm10 10l.94 2.06.94-2.06 2.06-.94-2.06-.94-.94-2.06-.94 2.06-2.06.94z\"/><path d=\"M17.41 7.96l-1.37-1.37c-.4-.4-.92-.59-1.43-.59-.52 0-1.04.2-1.43.59L10.3 9.45l-7.72 7.72c-.78.78-.78 2.05 0 2.83L4 21.41c.39.39.9.59 1.41.59.51 0 1.02-.2 1.41-.59l7.78-7.78 2.81-2.81c.8-.78.8-2.07 0-2.86zM5.41 20L4 18.59l7.72-7.72 1.47 1.35L5.41 20z\"/>\n",
              "  </svg>\n",
              "      </button>\n",
              "      \n",
              "  <style>\n",
              "    .colab-df-container {\n",
              "      display:flex;\n",
              "      flex-wrap:wrap;\n",
              "      gap: 12px;\n",
              "    }\n",
              "\n",
              "    .colab-df-convert {\n",
              "      background-color: #E8F0FE;\n",
              "      border: none;\n",
              "      border-radius: 50%;\n",
              "      cursor: pointer;\n",
              "      display: none;\n",
              "      fill: #1967D2;\n",
              "      height: 32px;\n",
              "      padding: 0 0 0 0;\n",
              "      width: 32px;\n",
              "    }\n",
              "\n",
              "    .colab-df-convert:hover {\n",
              "      background-color: #E2EBFA;\n",
              "      box-shadow: 0px 1px 2px rgba(60, 64, 67, 0.3), 0px 1px 3px 1px rgba(60, 64, 67, 0.15);\n",
              "      fill: #174EA6;\n",
              "    }\n",
              "\n",
              "    [theme=dark] .colab-df-convert {\n",
              "      background-color: #3B4455;\n",
              "      fill: #D2E3FC;\n",
              "    }\n",
              "\n",
              "    [theme=dark] .colab-df-convert:hover {\n",
              "      background-color: #434B5C;\n",
              "      box-shadow: 0px 1px 3px 1px rgba(0, 0, 0, 0.15);\n",
              "      filter: drop-shadow(0px 1px 2px rgba(0, 0, 0, 0.3));\n",
              "      fill: #FFFFFF;\n",
              "    }\n",
              "  </style>\n",
              "\n",
              "      <script>\n",
              "        const buttonEl =\n",
              "          document.querySelector('#df-9f144498-bf01-445a-83e2-9aede41c46be button.colab-df-convert');\n",
              "        buttonEl.style.display =\n",
              "          google.colab.kernel.accessAllowed ? 'block' : 'none';\n",
              "\n",
              "        async function convertToInteractive(key) {\n",
              "          const element = document.querySelector('#df-9f144498-bf01-445a-83e2-9aede41c46be');\n",
              "          const dataTable =\n",
              "            await google.colab.kernel.invokeFunction('convertToInteractive',\n",
              "                                                     [key], {});\n",
              "          if (!dataTable) return;\n",
              "\n",
              "          const docLinkHtml = 'Like what you see? Visit the ' +\n",
              "            '<a target=\"_blank\" href=https://colab.research.google.com/notebooks/data_table.ipynb>data table notebook</a>'\n",
              "            + ' to learn more about interactive tables.';\n",
              "          element.innerHTML = '';\n",
              "          dataTable['output_type'] = 'display_data';\n",
              "          await google.colab.output.renderOutput(dataTable, element);\n",
              "          const docLink = document.createElement('div');\n",
              "          docLink.innerHTML = docLinkHtml;\n",
              "          element.appendChild(docLink);\n",
              "        }\n",
              "      </script>\n",
              "    </div>\n",
              "  </div>\n",
              "  "
            ]
          },
          "metadata": {},
          "execution_count": 46
        }
      ],
      "source": [
        "# 인프라 (편의점)\n",
        "\n",
        "import requests\n",
        "import json\n",
        "import pandas as pd\n",
        "\n",
        "url = 'https://dapi.kakao.com/v2/local/search/keyword.json'\n",
        "\n",
        "인근_편의점= []\n",
        "\n",
        "for i in range(len(x_y)):\n",
        "\n",
        "    data = {}\n",
        "    \n",
        "    dong_name = x_y[i][0]\n",
        "    dong_x = x_y[i][3]\n",
        "    dong_y = x_y[i][2]\n",
        "\n",
        "    params = {'query' : '편의점',\n",
        "                'x' : dong_x,\n",
        "                'y' : dong_y,\n",
        "                'radius' : 500}\n",
        "\n",
        "    kakao_key = '2dc142a121aa04c7f2cf477c8daa9074'\n",
        "\n",
        "    conv = requests.get(url = url, \n",
        "                        params = params, \n",
        "                        headers = {\"Authorization\":f\"KakaoAK {kakao_key}\"}).json()\n",
        "    conv_cnt = conv['meta']['total_count']\n",
        "\n",
        "    #데이터 넣기\n",
        "    data['행정동'] = dong_name\n",
        "    data['지점'] = x_y[i][1]\n",
        "    data['인근 편의점 수'] = conv_cnt\n",
        "\n",
        "    인근_편의점.append(data)\n",
        "\n",
        "인근_편의점 = pd.DataFrame(인근_편의점)\n",
        "인근_편의점"
      ]
    },
    {
      "cell_type": "code",
      "source": [
        "# 막대기\n",
        "import seaborn as sns\n",
        "import matplotlib.pyplot as plt\n",
        "\n",
        "sns.barplot(x='행정동', y='인근 편의점 수', data=인근_편의점, hue='지점')\n",
        "\n",
        "plt.title('인근 편의점 개수\\n')\n",
        "plt.xlabel(' ')\n",
        "plt.ylabel(' ')\n",
        "#plt.ylim(-.7,0.8)"
      ],
      "metadata": {
        "colab": {
          "base_uri": "https://localhost:8080/",
          "height": 509
        },
        "id": "xHMw-DVUKUTB",
        "outputId": "19965386-989d-4852-82e6-25dd7bd95b07"
      },
      "execution_count": null,
      "outputs": [
        {
          "output_type": "execute_result",
          "data": {
            "text/plain": [
              "Text(0, 0.5, ' ')"
            ]
          },
          "metadata": {},
          "execution_count": 39
        },
        {
          "output_type": "display_data",
          "data": {
            "text/plain": [
              "<Figure size 640x480 with 1 Axes>"
            ],
            "image/png": "[encoded data removed]"
          },
          "metadata": {}
        }
      ]
    },
    {
      "cell_type": "code",
      "source": [
        "# 인프라 (음식점)\n",
        "\n",
        "import requests\n",
        "import json\n",
        "import pandas as pd\n",
        "\n",
        "url = 'https://dapi.kakao.com/v2/local/search/keyword.json'\n",
        "\n",
        "인근_음식점= []\n",
        "\n",
        "for i in range(len(x_y)):\n",
        "\n",
        "    data = {}\n",
        "    \n",
        "    dong_name = x_y[i][0]\n",
        "    dong_x = x_y[i][3]\n",
        "    dong_y = x_y[i][2]\n",
        "\n",
        "    params = {'query' : '음식점',\n",
        "                'x' : dong_x,\n",
        "                'y' : dong_y,\n",
        "                'radius' : 500}\n",
        "\n",
        "    kakao_key = '2dc142a121aa04c7f2cf477c8daa9074'\n",
        "\n",
        "    rest = requests.get(url = url, \n",
        "                        params = params, \n",
        "                        headers = {\"Authorization\":f\"KakaoAK {kakao_key}\"}).json()\n",
        "    rest_cnt = rest['meta']['total_count']\n",
        "\n",
        "    #데이터 넣기\n",
        "    data['행정동'] = dong_name\n",
        "    data['지점'] = x_y[i][1]\n",
        "    data['인근 음식점 수'] = rest_cnt\n",
        "\n",
        "    인근_음식점.append(data)\n",
        "\n",
        "인근_음식점 = pd.DataFrame(인근_음식점)\n",
        "인근_음식점"
      ],
      "metadata": {
        "colab": {
          "base_uri": "https://localhost:8080/",
          "height": 237
        },
        "id": "Pq_nont1GMm5",
        "outputId": "c84c3d6f-45b0-4b39-e9d8-f1407cbe4f60"
      },
      "execution_count": null,
      "outputs": [
        {
          "output_type": "execute_result",
          "data": {
            "text/plain": [
              "    행정동  지점  인근 음식점 수\n",
              "0   인헌동   1       285\n",
              "1   인헌동   2       148\n",
              "2   인헌동   3       388\n",
              "3  보라매동   1       502\n",
              "4  보라매동   2       241\n",
              "5  보라매동   3       323"
            ],
            "text/html": [
              "\n",
              "  <div id=\"df-b2063ff2-ec36-4fa8-a146-b20ef698eefc\">\n",
              "    <div class=\"colab-df-container\">\n",
              "      <div>\n",
              "<style scoped>\n",
              "    .dataframe tbody tr th:only-of-type {\n",
              "        vertical-align: middle;\n",
              "    }\n",
              "\n",
              "    .dataframe tbody tr th {\n",
              "        vertical-align: top;\n",
              "    }\n",
              "\n",
              "    .dataframe thead th {\n",
              "        text-align: right;\n",
              "    }\n",
              "</style>\n",
              "<table border=\"1\" class=\"dataframe\">\n",
              "  <thead>\n",
              "    <tr style=\"text-align: right;\">\n",
              "      <th></th>\n",
              "      <th>행정동</th>\n",
              "      <th>지점</th>\n",
              "      <th>인근 음식점 수</th>\n",
              "    </tr>\n",
              "  </thead>\n",
              "  <tbody>\n",
              "    <tr>\n",
              "      <th>0</th>\n",
              "      <td>인헌동</td>\n",
              "      <td>1</td>\n",
              "      <td>285</td>\n",
              "    </tr>\n",
              "    <tr>\n",
              "      <th>1</th>\n",
              "      <td>인헌동</td>\n",
              "      <td>2</td>\n",
              "      <td>148</td>\n",
              "    </tr>\n",
              "    <tr>\n",
              "      <th>2</th>\n",
              "      <td>인헌동</td>\n",
              "      <td>3</td>\n",
              "      <td>388</td>\n",
              "    </tr>\n",
              "    <tr>\n",
              "      <th>3</th>\n",
              "      <td>보라매동</td>\n",
              "      <td>1</td>\n",
              "      <td>502</td>\n",
              "    </tr>\n",
              "    <tr>\n",
              "      <th>4</th>\n",
              "      <td>보라매동</td>\n",
              "      <td>2</td>\n",
              "      <td>241</td>\n",
              "    </tr>\n",
              "    <tr>\n",
              "      <th>5</th>\n",
              "      <td>보라매동</td>\n",
              "      <td>3</td>\n",
              "      <td>323</td>\n",
              "    </tr>\n",
              "  </tbody>\n",
              "</table>\n",
              "</div>\n",
              "      <button class=\"colab-df-convert\" onclick=\"convertToInteractive('df-b2063ff2-ec36-4fa8-a146-b20ef698eefc')\"\n",
              "              title=\"Convert this dataframe to an interactive table.\"\n",
              "              style=\"display:none;\">\n",
              "        \n",
              "  <svg xmlns=\"http://www.w3.org/2000/svg\" height=\"24px\"viewBox=\"0 0 24 24\"\n",
              "       width=\"24px\">\n",
              "    <path d=\"M0 0h24v24H0V0z\" fill=\"none\"/>\n",
              "    <path d=\"M18.56 5.44l.94 2.06.94-2.06 2.06-.94-2.06-.94-.94-2.06-.94 2.06-2.06.94zm-11 1L8.5 8.5l.94-2.06 2.06-.94-2.06-.94L8.5 2.5l-.94 2.06-2.06.94zm10 10l.94 2.06.94-2.06 2.06-.94-2.06-.94-.94-2.06-.94 2.06-2.06.94z\"/><path d=\"M17.41 7.96l-1.37-1.37c-.4-.4-.92-.59-1.43-.59-.52 0-1.04.2-1.43.59L10.3 9.45l-7.72 7.72c-.78.78-.78 2.05 0 2.83L4 21.41c.39.39.9.59 1.41.59.51 0 1.02-.2 1.41-.59l7.78-7.78 2.81-2.81c.8-.78.8-2.07 0-2.86zM5.41 20L4 18.59l7.72-7.72 1.47 1.35L5.41 20z\"/>\n",
              "  </svg>\n",
              "      </button>\n",
              "      \n",
              "  <style>\n",
              "    .colab-df-container {\n",
              "      display:flex;\n",
              "      flex-wrap:wrap;\n",
              "      gap: 12px;\n",
              "    }\n",
              "\n",
              "    .colab-df-convert {\n",
              "      background-color: #E8F0FE;\n",
              "      border: none;\n",
              "      border-radius: 50%;\n",
              "      cursor: pointer;\n",
              "      display: none;\n",
              "      fill: #1967D2;\n",
              "      height: 32px;\n",
              "      padding: 0 0 0 0;\n",
              "      width: 32px;\n",
              "    }\n",
              "\n",
              "    .colab-df-convert:hover {\n",
              "      background-color: #E2EBFA;\n",
              "      box-shadow: 0px 1px 2px rgba(60, 64, 67, 0.3), 0px 1px 3px 1px rgba(60, 64, 67, 0.15);\n",
              "      fill: #174EA6;\n",
              "    }\n",
              "\n",
              "    [theme=dark] .colab-df-convert {\n",
              "      background-color: #3B4455;\n",
              "      fill: #D2E3FC;\n",
              "    }\n",
              "\n",
              "    [theme=dark] .colab-df-convert:hover {\n",
              "      background-color: #434B5C;\n",
              "      box-shadow: 0px 1px 3px 1px rgba(0, 0, 0, 0.15);\n",
              "      filter: drop-shadow(0px 1px 2px rgba(0, 0, 0, 0.3));\n",
              "      fill: #FFFFFF;\n",
              "    }\n",
              "  </style>\n",
              "\n",
              "      <script>\n",
              "        const buttonEl =\n",
              "          document.querySelector('#df-b2063ff2-ec36-4fa8-a146-b20ef698eefc button.colab-df-convert');\n",
              "        buttonEl.style.display =\n",
              "          google.colab.kernel.accessAllowed ? 'block' : 'none';\n",
              "\n",
              "        async function convertToInteractive(key) {\n",
              "          const element = document.querySelector('#df-b2063ff2-ec36-4fa8-a146-b20ef698eefc');\n",
              "          const dataTable =\n",
              "            await google.colab.kernel.invokeFunction('convertToInteractive',\n",
              "                                                     [key], {});\n",
              "          if (!dataTable) return;\n",
              "\n",
              "          const docLinkHtml = 'Like what you see? Visit the ' +\n",
              "            '<a target=\"_blank\" href=https://colab.research.google.com/notebooks/data_table.ipynb>data table notebook</a>'\n",
              "            + ' to learn more about interactive tables.';\n",
              "          element.innerHTML = '';\n",
              "          dataTable['output_type'] = 'display_data';\n",
              "          await google.colab.output.renderOutput(dataTable, element);\n",
              "          const docLink = document.createElement('div');\n",
              "          docLink.innerHTML = docLinkHtml;\n",
              "          element.appendChild(docLink);\n",
              "        }\n",
              "      </script>\n",
              "    </div>\n",
              "  </div>\n",
              "  "
            ]
          },
          "metadata": {},
          "execution_count": 53
        }
      ]
    },
    {
      "cell_type": "code",
      "source": [
        "# 막대기\n",
        "import seaborn as sns\n",
        "import matplotlib.pyplot as plt\n",
        "\n",
        "sns.barplot(x='행정동', y='인근 음식점 수', data=인근_음식점, hue='지점')\n",
        "\n",
        "plt.title('인근 음식점 개수\\n')\n",
        "plt.xlabel(' ')\n",
        "plt.ylabel(' ')\n",
        "#plt.ylim(-.7,0.8)"
      ],
      "metadata": {
        "colab": {
          "base_uri": "https://localhost:8080/",
          "height": 509
        },
        "id": "FbehN7deLOah",
        "outputId": "5d5f68a4-99c7-49c4-a4c8-67f6d20c912b"
      },
      "execution_count": null,
      "outputs": [
        {
          "output_type": "execute_result",
          "data": {
            "text/plain": [
              "Text(0, 0.5, ' ')"
            ]
          },
          "metadata": {},
          "execution_count": 66
        },
        {
          "output_type": "display_data",
          "data": {
            "text/plain": [
              "<Figure size 640x480 with 1 Axes>"
            ],
            "image/png": "[encoded data removed]"
          },
          "metadata": {}
        }
      ]
    },
    {
      "cell_type": "code",
      "source": [
        "# 인프라 (대형마트)\n",
        "\n",
        "import requests\n",
        "import json\n",
        "import pandas as pd\n",
        "\n",
        "url = 'https://dapi.kakao.com/v2/local/search/keyword.json'\n",
        "\n",
        "인근_대형마트= []\n",
        "\n",
        "for i in range(len(x_y)):\n",
        "\n",
        "    data = {}\n",
        "    \n",
        "    dong_name = x_y[i][0]\n",
        "    dong_x = x_y[i][3]\n",
        "    dong_y = x_y[i][2]\n",
        "\n",
        "    params = {'query' : '대형마트',\n",
        "                'x' : dong_x,\n",
        "                'y' : dong_y,\n",
        "                'radius' : 500}\n",
        "\n",
        "    kakao_key = '2dc142a121aa04c7f2cf477c8daa9074'\n",
        "\n",
        "    mart = requests.get(url = url, \n",
        "                        params = params, \n",
        "                        headers = {\"Authorization\":f\"KakaoAK {kakao_key}\"}).json()\n",
        "    mart_cnt = mart['meta']['total_count']\n",
        "\n",
        "    #데이터 넣기\n",
        "    data['행정동'] = dong_name\n",
        "    data['지점'] = x_y[i][1]\n",
        "    data['인근 대형마트 수'] = mart_cnt\n",
        "\n",
        "    인근_대형마트.append(data)\n",
        "\n",
        "인근_대형마트 = pd.DataFrame(인근_대형마트)\n",
        "인근_대형마트"
      ],
      "metadata": {
        "colab": {
          "base_uri": "https://localhost:8080/",
          "height": 237
        },
        "id": "KdC_FzbSGMiO",
        "outputId": "d90995d0-6afc-4e9d-c2e3-d240245e4c0b"
      },
      "execution_count": null,
      "outputs": [
        {
          "output_type": "execute_result",
          "data": {
            "text/plain": [
              "    행정동  지점  인근 대형마트 수\n",
              "0   인헌동   1          0\n",
              "1   인헌동   2          0\n",
              "2   인헌동   3          0\n",
              "3  보라매동   1          0\n",
              "4  보라매동   2          0\n",
              "5  보라매동   3          0"
            ],
            "text/html": [
              "\n",
              "  <div id=\"df-8260f9d5-c3c6-48c6-b011-36fcc82a6353\">\n",
              "    <div class=\"colab-df-container\">\n",
              "      <div>\n",
              "<style scoped>\n",
              "    .dataframe tbody tr th:only-of-type {\n",
              "        vertical-align: middle;\n",
              "    }\n",
              "\n",
              "    .dataframe tbody tr th {\n",
              "        vertical-align: top;\n",
              "    }\n",
              "\n",
              "    .dataframe thead th {\n",
              "        text-align: right;\n",
              "    }\n",
              "</style>\n",
              "<table border=\"1\" class=\"dataframe\">\n",
              "  <thead>\n",
              "    <tr style=\"text-align: right;\">\n",
              "      <th></th>\n",
              "      <th>행정동</th>\n",
              "      <th>지점</th>\n",
              "      <th>인근 대형마트 수</th>\n",
              "    </tr>\n",
              "  </thead>\n",
              "  <tbody>\n",
              "    <tr>\n",
              "      <th>0</th>\n",
              "      <td>인헌동</td>\n",
              "      <td>1</td>\n",
              "      <td>0</td>\n",
              "    </tr>\n",
              "    <tr>\n",
              "      <th>1</th>\n",
              "      <td>인헌동</td>\n",
              "      <td>2</td>\n",
              "      <td>0</td>\n",
              "    </tr>\n",
              "    <tr>\n",
              "      <th>2</th>\n",
              "      <td>인헌동</td>\n",
              "      <td>3</td>\n",
              "      <td>0</td>\n",
              "    </tr>\n",
              "    <tr>\n",
              "      <th>3</th>\n",
              "      <td>보라매동</td>\n",
              "      <td>1</td>\n",
              "      <td>0</td>\n",
              "    </tr>\n",
              "    <tr>\n",
              "      <th>4</th>\n",
              "      <td>보라매동</td>\n",
              "      <td>2</td>\n",
              "      <td>0</td>\n",
              "    </tr>\n",
              "    <tr>\n",
              "      <th>5</th>\n",
              "      <td>보라매동</td>\n",
              "      <td>3</td>\n",
              "      <td>0</td>\n",
              "    </tr>\n",
              "  </tbody>\n",
              "</table>\n",
              "</div>\n",
              "      <button class=\"colab-df-convert\" onclick=\"convertToInteractive('df-8260f9d5-c3c6-48c6-b011-36fcc82a6353')\"\n",
              "              title=\"Convert this dataframe to an interactive table.\"\n",
              "              style=\"display:none;\">\n",
              "        \n",
              "  <svg xmlns=\"http://www.w3.org/2000/svg\" height=\"24px\"viewBox=\"0 0 24 24\"\n",
              "       width=\"24px\">\n",
              "    <path d=\"M0 0h24v24H0V0z\" fill=\"none\"/>\n",
              "    <path d=\"M18.56 5.44l.94 2.06.94-2.06 2.06-.94-2.06-.94-.94-2.06-.94 2.06-2.06.94zm-11 1L8.5 8.5l.94-2.06 2.06-.94-2.06-.94L8.5 2.5l-.94 2.06-2.06.94zm10 10l.94 2.06.94-2.06 2.06-.94-2.06-.94-.94-2.06-.94 2.06-2.06.94z\"/><path d=\"M17.41 7.96l-1.37-1.37c-.4-.4-.92-.59-1.43-.59-.52 0-1.04.2-1.43.59L10.3 9.45l-7.72 7.72c-.78.78-.78 2.05 0 2.83L4 21.41c.39.39.9.59 1.41.59.51 0 1.02-.2 1.41-.59l7.78-7.78 2.81-2.81c.8-.78.8-2.07 0-2.86zM5.41 20L4 18.59l7.72-7.72 1.47 1.35L5.41 20z\"/>\n",
              "  </svg>\n",
              "      </button>\n",
              "      \n",
              "  <style>\n",
              "    .colab-df-container {\n",
              "      display:flex;\n",
              "      flex-wrap:wrap;\n",
              "      gap: 12px;\n",
              "    }\n",
              "\n",
              "    .colab-df-convert {\n",
              "      background-color: #E8F0FE;\n",
              "      border: none;\n",
              "      border-radius: 50%;\n",
              "      cursor: pointer;\n",
              "      display: none;\n",
              "      fill: #1967D2;\n",
              "      height: 32px;\n",
              "      padding: 0 0 0 0;\n",
              "      width: 32px;\n",
              "    }\n",
              "\n",
              "    .colab-df-convert:hover {\n",
              "      background-color: #E2EBFA;\n",
              "      box-shadow: 0px 1px 2px rgba(60, 64, 67, 0.3), 0px 1px 3px 1px rgba(60, 64, 67, 0.15);\n",
              "      fill: #174EA6;\n",
              "    }\n",
              "\n",
              "    [theme=dark] .colab-df-convert {\n",
              "      background-color: #3B4455;\n",
              "      fill: #D2E3FC;\n",
              "    }\n",
              "\n",
              "    [theme=dark] .colab-df-convert:hover {\n",
              "      background-color: #434B5C;\n",
              "      box-shadow: 0px 1px 3px 1px rgba(0, 0, 0, 0.15);\n",
              "      filter: drop-shadow(0px 1px 2px rgba(0, 0, 0, 0.3));\n",
              "      fill: #FFFFFF;\n",
              "    }\n",
              "  </style>\n",
              "\n",
              "      <script>\n",
              "        const buttonEl =\n",
              "          document.querySelector('#df-8260f9d5-c3c6-48c6-b011-36fcc82a6353 button.colab-df-convert');\n",
              "        buttonEl.style.display =\n",
              "          google.colab.kernel.accessAllowed ? 'block' : 'none';\n",
              "\n",
              "        async function convertToInteractive(key) {\n",
              "          const element = document.querySelector('#df-8260f9d5-c3c6-48c6-b011-36fcc82a6353');\n",
              "          const dataTable =\n",
              "            await google.colab.kernel.invokeFunction('convertToInteractive',\n",
              "                                                     [key], {});\n",
              "          if (!dataTable) return;\n",
              "\n",
              "          const docLinkHtml = 'Like what you see? Visit the ' +\n",
              "            '<a target=\"_blank\" href=https://colab.research.google.com/notebooks/data_table.ipynb>data table notebook</a>'\n",
              "            + ' to learn more about interactive tables.';\n",
              "          element.innerHTML = '';\n",
              "          dataTable['output_type'] = 'display_data';\n",
              "          await google.colab.output.renderOutput(dataTable, element);\n",
              "          const docLink = document.createElement('div');\n",
              "          docLink.innerHTML = docLinkHtml;\n",
              "          element.appendChild(docLink);\n",
              "        }\n",
              "      </script>\n",
              "    </div>\n",
              "  </div>\n",
              "  "
            ]
          },
          "metadata": {},
          "execution_count": 43
        }
      ]
    },
    {
      "cell_type": "code",
      "source": [
        "# 막대기\n",
        "import seaborn as sns\n",
        "import matplotlib.pyplot as plt\n",
        "\n",
        "sns.barplot(x='행정동', y='인근 대형마트 수', data=인근_대형마트, hue='지점')\n",
        "\n",
        "plt.title('인근 대형마트 개수\\n')\n",
        "plt.xlabel(' ')\n",
        "plt.ylabel(' ')\n",
        "#plt.ylim(-.7,0.8)"
      ],
      "metadata": {
        "colab": {
          "base_uri": "https://localhost:8080/",
          "height": 467
        },
        "id": "59oqHSjaLPYV",
        "outputId": "62605e9a-48d4-44ce-b088-6e167e9eae3e"
      },
      "execution_count": null,
      "outputs": [
        {
          "output_type": "execute_result",
          "data": {
            "text/plain": [
              "Text(0, 0.5, ' ')"
            ]
          },
          "metadata": {},
          "execution_count": 44
        },
        {
          "output_type": "display_data",
          "data": {
            "text/plain": [
              "<Figure size 640x480 with 1 Axes>"
            ],
            "image/png": "[encoded data removed]"
          },
          "metadata": {}
        }
      ]
    },
    {
      "cell_type": "code",
      "source": [
        "data = {}\n",
        "\n",
        "dong_name = x_y[i][0]\n",
        "dong_x = x_y[i][3]\n",
        "dong_y = x_y[i][2]\n",
        "\n",
        "params = {'query' : '주거시설',\n",
        "            'x' : dong_x,\n",
        "            'y' : dong_y,\n",
        "            'radius' : 500}\n",
        "\n",
        "kakao_key = '2dc142a121aa04c7f2cf477c8daa9074'\n",
        "\n",
        "home = requests.get(url = url, \n",
        "                    params = params, \n",
        "                    headers = {\"Authorization\":f\"KakaoAK {kakao_key}\"}).json()\n",
        "home"
      ],
      "metadata": {
        "id": "qocB8sYShLoA"
      },
      "execution_count": null,
      "outputs": []
    },
    {
      "cell_type": "code",
      "source": [
        "# 주택\n",
        "\n",
        "import requests\n",
        "import json\n",
        "import pandas as pd\n",
        "\n",
        "url = 'https://dapi.kakao.com/v2/local/search/keyword.json'\n",
        "\n",
        "인근_주택= []\n",
        "\n",
        "for i in range(len(x_y)):\n",
        "\n",
        "    data = {}\n",
        "    \n",
        "    dong_name = x_y[i][0]\n",
        "    dong_x = x_y[i][3]\n",
        "    dong_y = x_y[i][2]\n",
        "\n",
        "    params = {'query' : '주거시설',\n",
        "                'x' : dong_x,\n",
        "                'y' : dong_y,\n",
        "                'radius' : 500}\n",
        "\n",
        "    kakao_key = '2dc142a121aa04c7f2cf477c8daa9074'\n",
        "\n",
        "    home = requests.get(url = url, \n",
        "                        params = params, \n",
        "                        headers = {\"Authorization\":f\"KakaoAK {kakao_key}\"}).json()\n",
        "    home_cnt = home['meta']['total_count']\n",
        "\n",
        "    #데이터 넣기\n",
        "    data['행정동'] = dong_name\n",
        "    data['지점'] = x_y[i][1]\n",
        "    data['인근 주택'] = home_cnt\n",
        "\n",
        "    인근_주택.append(data)\n",
        "\n",
        "인근_주택 = pd.DataFrame(인근_주택)\n",
        "인근_주택"
      ],
      "metadata": {
        "colab": {
          "base_uri": "https://localhost:8080/",
          "height": 237
        },
        "id": "xEMaaNi_IXEL",
        "outputId": "f4e314c4-8399-4e00-f3a3-f844106b3ba9"
      },
      "execution_count": null,
      "outputs": [
        {
          "output_type": "execute_result",
          "data": {
            "text/plain": [
              "    행정동  지점  인근 주택\n",
              "0   인헌동   1    148\n",
              "1   인헌동   2     83\n",
              "2   인헌동   3    126\n",
              "3  보라매동   1    394\n",
              "4  보라매동   2    458\n",
              "5  보라매동   3    451"
            ],
            "text/html": [
              "\n",
              "  <div id=\"df-a4b1759a-06c9-4898-b977-204c64ebb981\">\n",
              "    <div class=\"colab-df-container\">\n",
              "      <div>\n",
              "<style scoped>\n",
              "    .dataframe tbody tr th:only-of-type {\n",
              "        vertical-align: middle;\n",
              "    }\n",
              "\n",
              "    .dataframe tbody tr th {\n",
              "        vertical-align: top;\n",
              "    }\n",
              "\n",
              "    .dataframe thead th {\n",
              "        text-align: right;\n",
              "    }\n",
              "</style>\n",
              "<table border=\"1\" class=\"dataframe\">\n",
              "  <thead>\n",
              "    <tr style=\"text-align: right;\">\n",
              "      <th></th>\n",
              "      <th>행정동</th>\n",
              "      <th>지점</th>\n",
              "      <th>인근 주택</th>\n",
              "    </tr>\n",
              "  </thead>\n",
              "  <tbody>\n",
              "    <tr>\n",
              "      <th>0</th>\n",
              "      <td>인헌동</td>\n",
              "      <td>1</td>\n",
              "      <td>148</td>\n",
              "    </tr>\n",
              "    <tr>\n",
              "      <th>1</th>\n",
              "      <td>인헌동</td>\n",
              "      <td>2</td>\n",
              "      <td>83</td>\n",
              "    </tr>\n",
              "    <tr>\n",
              "      <th>2</th>\n",
              "      <td>인헌동</td>\n",
              "      <td>3</td>\n",
              "      <td>126</td>\n",
              "    </tr>\n",
              "    <tr>\n",
              "      <th>3</th>\n",
              "      <td>보라매동</td>\n",
              "      <td>1</td>\n",
              "      <td>394</td>\n",
              "    </tr>\n",
              "    <tr>\n",
              "      <th>4</th>\n",
              "      <td>보라매동</td>\n",
              "      <td>2</td>\n",
              "      <td>458</td>\n",
              "    </tr>\n",
              "    <tr>\n",
              "      <th>5</th>\n",
              "      <td>보라매동</td>\n",
              "      <td>3</td>\n",
              "      <td>451</td>\n",
              "    </tr>\n",
              "  </tbody>\n",
              "</table>\n",
              "</div>\n",
              "      <button class=\"colab-df-convert\" onclick=\"convertToInteractive('df-a4b1759a-06c9-4898-b977-204c64ebb981')\"\n",
              "              title=\"Convert this dataframe to an interactive table.\"\n",
              "              style=\"display:none;\">\n",
              "        \n",
              "  <svg xmlns=\"http://www.w3.org/2000/svg\" height=\"24px\"viewBox=\"0 0 24 24\"\n",
              "       width=\"24px\">\n",
              "    <path d=\"M0 0h24v24H0V0z\" fill=\"none\"/>\n",
              "    <path d=\"M18.56 5.44l.94 2.06.94-2.06 2.06-.94-2.06-.94-.94-2.06-.94 2.06-2.06.94zm-11 1L8.5 8.5l.94-2.06 2.06-.94-2.06-.94L8.5 2.5l-.94 2.06-2.06.94zm10 10l.94 2.06.94-2.06 2.06-.94-2.06-.94-.94-2.06-.94 2.06-2.06.94z\"/><path d=\"M17.41 7.96l-1.37-1.37c-.4-.4-.92-.59-1.43-.59-.52 0-1.04.2-1.43.59L10.3 9.45l-7.72 7.72c-.78.78-.78 2.05 0 2.83L4 21.41c.39.39.9.59 1.41.59.51 0 1.02-.2 1.41-.59l7.78-7.78 2.81-2.81c.8-.78.8-2.07 0-2.86zM5.41 20L4 18.59l7.72-7.72 1.47 1.35L5.41 20z\"/>\n",
              "  </svg>\n",
              "      </button>\n",
              "      \n",
              "  <style>\n",
              "    .colab-df-container {\n",
              "      display:flex;\n",
              "      flex-wrap:wrap;\n",
              "      gap: 12px;\n",
              "    }\n",
              "\n",
              "    .colab-df-convert {\n",
              "      background-color: #E8F0FE;\n",
              "      border: none;\n",
              "      border-radius: 50%;\n",
              "      cursor: pointer;\n",
              "      display: none;\n",
              "      fill: #1967D2;\n",
              "      height: 32px;\n",
              "      padding: 0 0 0 0;\n",
              "      width: 32px;\n",
              "    }\n",
              "\n",
              "    .colab-df-convert:hover {\n",
              "      background-color: #E2EBFA;\n",
              "      box-shadow: 0px 1px 2px rgba(60, 64, 67, 0.3), 0px 1px 3px 1px rgba(60, 64, 67, 0.15);\n",
              "      fill: #174EA6;\n",
              "    }\n",
              "\n",
              "    [theme=dark] .colab-df-convert {\n",
              "      background-color: #3B4455;\n",
              "      fill: #D2E3FC;\n",
              "    }\n",
              "\n",
              "    [theme=dark] .colab-df-convert:hover {\n",
              "      background-color: #434B5C;\n",
              "      box-shadow: 0px 1px 3px 1px rgba(0, 0, 0, 0.15);\n",
              "      filter: drop-shadow(0px 1px 2px rgba(0, 0, 0, 0.3));\n",
              "      fill: #FFFFFF;\n",
              "    }\n",
              "  </style>\n",
              "\n",
              "      <script>\n",
              "        const buttonEl =\n",
              "          document.querySelector('#df-a4b1759a-06c9-4898-b977-204c64ebb981 button.colab-df-convert');\n",
              "        buttonEl.style.display =\n",
              "          google.colab.kernel.accessAllowed ? 'block' : 'none';\n",
              "\n",
              "        async function convertToInteractive(key) {\n",
              "          const element = document.querySelector('#df-a4b1759a-06c9-4898-b977-204c64ebb981');\n",
              "          const dataTable =\n",
              "            await google.colab.kernel.invokeFunction('convertToInteractive',\n",
              "                                                     [key], {});\n",
              "          if (!dataTable) return;\n",
              "\n",
              "          const docLinkHtml = 'Like what you see? Visit the ' +\n",
              "            '<a target=\"_blank\" href=https://colab.research.google.com/notebooks/data_table.ipynb>data table notebook</a>'\n",
              "            + ' to learn more about interactive tables.';\n",
              "          element.innerHTML = '';\n",
              "          dataTable['output_type'] = 'display_data';\n",
              "          await google.colab.output.renderOutput(dataTable, element);\n",
              "          const docLink = document.createElement('div');\n",
              "          docLink.innerHTML = docLinkHtml;\n",
              "          element.appendChild(docLink);\n",
              "        }\n",
              "      </script>\n",
              "    </div>\n",
              "  </div>\n",
              "  "
            ]
          },
          "metadata": {},
          "execution_count": 71
        }
      ]
    },
    {
      "cell_type": "code",
      "source": [
        "# 막대기\n",
        "import seaborn as sns\n",
        "import matplotlib.pyplot as plt\n",
        "\n",
        "sns.barplot(x='행정동', y='인근 주택', data=인근_주택, hue='지점')\n",
        "\n",
        "plt.title('인근 주택 개수\\n')\n",
        "plt.xlabel(' ')\n",
        "plt.ylabel(' ')\n",
        "#plt.ylim(-.7,0.8)"
      ],
      "metadata": {
        "colab": {
          "base_uri": "https://localhost:8080/",
          "height": 509
        },
        "id": "xbatRC0XLZ6d",
        "outputId": "93067bc6-07c4-4f8d-aad3-f2f6dc3e8c1e"
      },
      "execution_count": null,
      "outputs": [
        {
          "output_type": "execute_result",
          "data": {
            "text/plain": [
              "Text(0, 0.5, ' ')"
            ]
          },
          "metadata": {},
          "execution_count": 72
        },
        {
          "output_type": "display_data",
          "data": {
            "text/plain": [
              "<Figure size 640x480 with 1 Axes>"
            ],
            "image/png": "[encoded data removed]"
          },
          "metadata": {}
        }
      ]
    },
    {
      "cell_type": "code",
      "source": [
        "data = {}\n",
        "    \n",
        "dong_name = x_y[i][0]\n",
        "dong_x = x_y[i][3]\n",
        "dong_y = x_y[i][2]\n",
        "\n",
        "params = {'query' : '정류장',\n",
        "            'x' : dong_x,\n",
        "            'y' : dong_y,\n",
        "            'radius' : 500}\n",
        "\n",
        "kakao_key = '2dc142a121aa04c7f2cf477c8daa9074'\n",
        "\n",
        "bus = requests.get(url = url, \n",
        "                    params = params, \n",
        "                    headers = {\"Authorization\":f\"KakaoAK {kakao_key}\"}).json()\n",
        "bus"
      ],
      "metadata": {
        "colab": {
          "base_uri": "https://localhost:8080/"
        },
        "id": "xFh7GqUKfeao",
        "outputId": "7660b4ae-be3a-412c-9158-1e01b3c7d60d"
      },
      "execution_count": null,
      "outputs": [
        {
          "output_type": "execute_result",
          "data": {
            "text/plain": [
              "{'documents': [],\n",
              " 'meta': {'is_end': True,\n",
              "  'pageable_count': 0,\n",
              "  'same_name': {'keyword': '정류장', 'region': [], 'selected_region': ''},\n",
              "  'total_count': 0}}"
            ]
          },
          "metadata": {},
          "execution_count": 65
        }
      ]
    },
    {
      "cell_type": "code",
      "source": [
        "# 버스정류장\n",
        "\n",
        "import requests\n",
        "import json\n",
        "import pandas as pd\n",
        "\n",
        "url = 'https://dapi.kakao.com/v2/local/search/keyword.json'\n",
        "\n",
        "인근_버스정류장= []\n",
        "\n",
        "for i in range(len(x_y)):\n",
        "\n",
        "    data = {}\n",
        "    \n",
        "    dong_name = x_y[i][0]\n",
        "    dong_x = x_y[i][3]\n",
        "    dong_y = x_y[i][2]\n",
        "\n",
        "    params = {'query' : '버스',\n",
        "                'x' : dong_x,\n",
        "                'y' : dong_y,\n",
        "                'radius' : 500}\n",
        "\n",
        "    kakao_key = '2dc142a121aa04c7f2cf477c8daa9074'\n",
        "\n",
        "    bus = requests.get(url = url, \n",
        "                        params = params, \n",
        "                        headers = {\"Authorization\":f\"KakaoAK {kakao_key}\"}).json()\n",
        "    bus_cnt = bus['meta']['total_count']\n",
        "\n",
        "    #데이터 넣기\n",
        "    data['행정동'] = dong_name\n",
        "    data['지점'] = x_y[i][1]\n",
        "    data['인근 버스 정류장'] = bus_cnt\n",
        "\n",
        "    인근_버스정류장.append(data)\n",
        "\n",
        "인근_버스정류장 = pd.DataFrame(인근_버스정류장)\n",
        "인근_버스정류장"
      ],
      "metadata": {
        "colab": {
          "base_uri": "https://localhost:8080/",
          "height": 237
        },
        "id": "5_GX-vnkIzjx",
        "outputId": "9bf61d06-7057-4a9d-f36e-28a8d4e40086"
      },
      "execution_count": null,
      "outputs": [
        {
          "output_type": "execute_result",
          "data": {
            "text/plain": [
              "    행정동  지점  인근 버스 정류장\n",
              "0   인헌동   1          0\n",
              "1   인헌동   2          0\n",
              "2   인헌동   3          0\n",
              "3  보라매동   1          0\n",
              "4  보라매동   2          2\n",
              "5  보라매동   3          1"
            ],
            "text/html": [
              "\n",
              "  <div id=\"df-d67c907b-0d3b-45bb-a826-1b68eb725d29\">\n",
              "    <div class=\"colab-df-container\">\n",
              "      <div>\n",
              "<style scoped>\n",
              "    .dataframe tbody tr th:only-of-type {\n",
              "        vertical-align: middle;\n",
              "    }\n",
              "\n",
              "    .dataframe tbody tr th {\n",
              "        vertical-align: top;\n",
              "    }\n",
              "\n",
              "    .dataframe thead th {\n",
              "        text-align: right;\n",
              "    }\n",
              "</style>\n",
              "<table border=\"1\" class=\"dataframe\">\n",
              "  <thead>\n",
              "    <tr style=\"text-align: right;\">\n",
              "      <th></th>\n",
              "      <th>행정동</th>\n",
              "      <th>지점</th>\n",
              "      <th>인근 버스 정류장</th>\n",
              "    </tr>\n",
              "  </thead>\n",
              "  <tbody>\n",
              "    <tr>\n",
              "      <th>0</th>\n",
              "      <td>인헌동</td>\n",
              "      <td>1</td>\n",
              "      <td>0</td>\n",
              "    </tr>\n",
              "    <tr>\n",
              "      <th>1</th>\n",
              "      <td>인헌동</td>\n",
              "      <td>2</td>\n",
              "      <td>0</td>\n",
              "    </tr>\n",
              "    <tr>\n",
              "      <th>2</th>\n",
              "      <td>인헌동</td>\n",
              "      <td>3</td>\n",
              "      <td>0</td>\n",
              "    </tr>\n",
              "    <tr>\n",
              "      <th>3</th>\n",
              "      <td>보라매동</td>\n",
              "      <td>1</td>\n",
              "      <td>0</td>\n",
              "    </tr>\n",
              "    <tr>\n",
              "      <th>4</th>\n",
              "      <td>보라매동</td>\n",
              "      <td>2</td>\n",
              "      <td>2</td>\n",
              "    </tr>\n",
              "    <tr>\n",
              "      <th>5</th>\n",
              "      <td>보라매동</td>\n",
              "      <td>3</td>\n",
              "      <td>1</td>\n",
              "    </tr>\n",
              "  </tbody>\n",
              "</table>\n",
              "</div>\n",
              "      <button class=\"colab-df-convert\" onclick=\"convertToInteractive('df-d67c907b-0d3b-45bb-a826-1b68eb725d29')\"\n",
              "              title=\"Convert this dataframe to an interactive table.\"\n",
              "              style=\"display:none;\">\n",
              "        \n",
              "  <svg xmlns=\"http://www.w3.org/2000/svg\" height=\"24px\"viewBox=\"0 0 24 24\"\n",
              "       width=\"24px\">\n",
              "    <path d=\"M0 0h24v24H0V0z\" fill=\"none\"/>\n",
              "    <path d=\"M18.56 5.44l.94 2.06.94-2.06 2.06-.94-2.06-.94-.94-2.06-.94 2.06-2.06.94zm-11 1L8.5 8.5l.94-2.06 2.06-.94-2.06-.94L8.5 2.5l-.94 2.06-2.06.94zm10 10l.94 2.06.94-2.06 2.06-.94-2.06-.94-.94-2.06-.94 2.06-2.06.94z\"/><path d=\"M17.41 7.96l-1.37-1.37c-.4-.4-.92-.59-1.43-.59-.52 0-1.04.2-1.43.59L10.3 9.45l-7.72 7.72c-.78.78-.78 2.05 0 2.83L4 21.41c.39.39.9.59 1.41.59.51 0 1.02-.2 1.41-.59l7.78-7.78 2.81-2.81c.8-.78.8-2.07 0-2.86zM5.41 20L4 18.59l7.72-7.72 1.47 1.35L5.41 20z\"/>\n",
              "  </svg>\n",
              "      </button>\n",
              "      \n",
              "  <style>\n",
              "    .colab-df-container {\n",
              "      display:flex;\n",
              "      flex-wrap:wrap;\n",
              "      gap: 12px;\n",
              "    }\n",
              "\n",
              "    .colab-df-convert {\n",
              "      background-color: #E8F0FE;\n",
              "      border: none;\n",
              "      border-radius: 50%;\n",
              "      cursor: pointer;\n",
              "      display: none;\n",
              "      fill: #1967D2;\n",
              "      height: 32px;\n",
              "      padding: 0 0 0 0;\n",
              "      width: 32px;\n",
              "    }\n",
              "\n",
              "    .colab-df-convert:hover {\n",
              "      background-color: #E2EBFA;\n",
              "      box-shadow: 0px 1px 2px rgba(60, 64, 67, 0.3), 0px 1px 3px 1px rgba(60, 64, 67, 0.15);\n",
              "      fill: #174EA6;\n",
              "    }\n",
              "\n",
              "    [theme=dark] .colab-df-convert {\n",
              "      background-color: #3B4455;\n",
              "      fill: #D2E3FC;\n",
              "    }\n",
              "\n",
              "    [theme=dark] .colab-df-convert:hover {\n",
              "      background-color: #434B5C;\n",
              "      box-shadow: 0px 1px 3px 1px rgba(0, 0, 0, 0.15);\n",
              "      filter: drop-shadow(0px 1px 2px rgba(0, 0, 0, 0.3));\n",
              "      fill: #FFFFFF;\n",
              "    }\n",
              "  </style>\n",
              "\n",
              "      <script>\n",
              "        const buttonEl =\n",
              "          document.querySelector('#df-d67c907b-0d3b-45bb-a826-1b68eb725d29 button.colab-df-convert');\n",
              "        buttonEl.style.display =\n",
              "          google.colab.kernel.accessAllowed ? 'block' : 'none';\n",
              "\n",
              "        async function convertToInteractive(key) {\n",
              "          const element = document.querySelector('#df-d67c907b-0d3b-45bb-a826-1b68eb725d29');\n",
              "          const dataTable =\n",
              "            await google.colab.kernel.invokeFunction('convertToInteractive',\n",
              "                                                     [key], {});\n",
              "          if (!dataTable) return;\n",
              "\n",
              "          const docLinkHtml = 'Like what you see? Visit the ' +\n",
              "            '<a target=\"_blank\" href=https://colab.research.google.com/notebooks/data_table.ipynb>data table notebook</a>'\n",
              "            + ' to learn more about interactive tables.';\n",
              "          element.innerHTML = '';\n",
              "          dataTable['output_type'] = 'display_data';\n",
              "          await google.colab.output.renderOutput(dataTable, element);\n",
              "          const docLink = document.createElement('div');\n",
              "          docLink.innerHTML = docLinkHtml;\n",
              "          element.appendChild(docLink);\n",
              "        }\n",
              "      </script>\n",
              "    </div>\n",
              "  </div>\n",
              "  "
            ]
          },
          "metadata": {},
          "execution_count": 58
        }
      ]
    },
    {
      "cell_type": "code",
      "source": [
        "# 막대기\n",
        "import seaborn as sns\n",
        "import matplotlib.pyplot as plt\n",
        "\n",
        "sns.barplot(x='행정동', y='인근 버스 정류장', data=인근_버스정류장, hue='지점')\n",
        "\n",
        "plt.title('인근 버스 정류장 개수\\n')\n",
        "plt.xlabel(' ')\n",
        "plt.ylabel(' ')\n",
        "#plt.ylim(-.7,0.8)"
      ],
      "metadata": {
        "id": "nfFeEImrLhCD"
      },
      "execution_count": null,
      "outputs": []
    },
    {
      "cell_type": "code",
      "source": [
        "import pandas as pd\n",
        "\n",
        "버스 = pd.read_csv('/content/예측 행정동 좌표_버스.csv', encoding = 'cp949')"
      ],
      "metadata": {
        "id": "ebcjLaoREWde"
      },
      "execution_count": null,
      "outputs": []
    },
    {
      "cell_type": "code",
      "source": [
        "# 막대기\n",
        "import seaborn as sns\n",
        "import matplotlib.pyplot as plt\n",
        "\n",
        "sns.barplot(x='동', y='버스', data=버스, hue='지점')\n",
        "\n",
        "plt.title('인근 버스 정류장 수')\n",
        "plt.xlabel(' ')\n",
        "plt.ylabel(' ')\n",
        "#plt.ylim(-.7,0.8)"
      ],
      "metadata": {
        "colab": {
          "base_uri": "https://localhost:8080/",
          "height": 489
        },
        "id": "Jxwf8OKqFeV4",
        "outputId": "239a2d84-17c1-4491-b974-3b6fc9f76b68"
      },
      "execution_count": null,
      "outputs": [
        {
          "output_type": "execute_result",
          "data": {
            "text/plain": [
              "Text(0, 0.5, ' ')"
            ]
          },
          "metadata": {},
          "execution_count": 5
        },
        {
          "output_type": "display_data",
          "data": {
            "text/plain": [
              "<Figure size 640x480 with 1 Axes>"
            ],
            "image/png": "[encoded data removed]"
          },
          "metadata": {}
        }
      ]
    },
    {
      "cell_type": "markdown",
      "metadata": {
        "id": "t7RfBAOTA0VT"
      },
      "source": [
        "#좌표로 행정동 추출"
      ]
    },
    {
      "cell_type": "code",
      "execution_count": null,
      "metadata": {
        "id": "3gY5AjDfAW-3"
      },
      "outputs": [],
      "source": [
        "x_y"
      ]
    },
    {
      "cell_type": "code",
      "execution_count": null,
      "metadata": {
        "id": "ludv_xQqA0VT"
      },
      "outputs": [],
      "source": [
        "import requests\n",
        "\n",
        "url = 'https://dapi.kakao.com/v2/local/geo/coord2regioncode.json'\n",
        "kakao_key = '2dc142a121aa04c7f2cf477c8daa9074'\n",
        "\n",
        "\n",
        "서울시_편의점 = []\n",
        "\n",
        "for i in range(len(x_y)):\n",
        "\n",
        "    mil_name = x_y[i][0]\n",
        "    mil_x = x_y[i][3]\n",
        "    mil_y = x_y[i][4]\n",
        "\n",
        "    params = {'x' : mil_x,\n",
        "              'y' : mil_y}\n",
        "\n",
        "    hjd = requests.get(url = url, \n",
        "                        params = params, \n",
        "                        headers = {\"Authorization\":f\"KakaoAK {kakao_key}\"}).json()['documents'][1]\n",
        "\n",
        "    data = {}\n",
        "\n",
        "    #데이터 입력\n",
        "    data['매장명'] = mil_name\n",
        "    data['행정동 code'] = hjd[\"code\"]\n",
        "    data['행정동 주소'] = hjd[\"address_name\"]\n",
        "    data['시'] = hjd[\"region_1depth_name\"]\n",
        "    data['구'] = hjd[\"region_2depth_name\"]\n",
        "    data['동'] = hjd[\"region_3depth_name\"]\n",
        "    data['etc'] = hjd[\"region_4depth_name\"]\n",
        "    data['경도'] = mil_y\n",
        "    data['위도'] = mil_x\n",
        "\n",
        "    서울시_편의점.append(data)\n",
        "\n",
        "서울시_편의점 = pd.DataFrame(서울시_편의점)"
      ]
    },
    {
      "cell_type": "code",
      "execution_count": null,
      "metadata": {
        "id": "EA0Crl-oAW-5"
      },
      "outputs": [],
      "source": [
        "#담꾹_행정동.to_csv('./서울시 편의점 현황.csv', encoding = 'cp949')\n",
        "서울시_편의점 = pd.read_csv('C:/Users/lmln8/Downloads/서울시 편의점 현황.csv', encoding='cp949')\n",
        "서울시_편의점_sum = 서울시_편의점.groupby('행정동 code', as_index=False)['num'].sum()\n",
        "서울시_편의점_sum.to_csv('./서울시 편의점 현황_집계.csv', encoding='cp949')"
      ]
    },
    {
      "cell_type": "markdown",
      "metadata": {
        "id": "Tsl5TZAEA0VU"
      },
      "source": [
        "#최종 데이터 병합"
      ]
    },
    {
      "cell_type": "code",
      "execution_count": null,
      "metadata": {
        "id": "xUQJE9LOA0VU"
      },
      "outputs": [],
      "source": [
        "담꾹_지도API_최종 = pd.merge(담꾹_행정동, 인근_밀키트_매장_수, on = \"매장명\", how = \"inner\")\n",
        "담꾹_지도API_최종 = pd.merge(담꾹_지도API_최종, 인근_편의점_매장_수, on = \"매장명\", how = \"inner\")\n",
        "담꾹_지도API_최종 = pd.merge(담꾹_지도API_최종, 인근_대형마트_매장_수, on = \"매장명\", how = \"inner\")\n",
        "담꾹_지도API_최종"
      ]
    },
    {
      "cell_type": "code",
      "execution_count": null,
      "metadata": {
        "id": "WdYeP2DkA0VU"
      },
      "outputs": [],
      "source": [
        "#output\n",
        "담꾹_지도API_최종.to_csv(\"/Users/lmln8/Desktop/담꾹 지도API 최종.csv\", encoding=\"utf-8-sig\")"
      ]
    },
    {
      "cell_type": "code",
      "execution_count": null,
      "metadata": {
        "id": "Rzlw3SPQA0VU"
      },
      "outputs": [],
      "source": [
        "import pandas as pd\n",
        "import requests\n",
        "아파트코드_최종 = pd.read_csv('/Users/lmln8/Desktop/아파트코드_최종_없음삭제.csv').values.tolist()\n",
        "아파트세대수 = []\n",
        "for bjd_code in range(30):\n",
        "    아파트코드 = 아파트코드_최종[bjd_code][2]\n",
        "    url = f'https://apis.data.go.kr/1613000/AptBasisInfoService1/getAphusBassInfo?serviceKey=lcjsLidzgyNDrzi7pA5P0N5zo4z80gxg5NfxMgOGEQnHylY3PO5AicJgFHwU3vaR8zuiE%2B6k2O1ojfc%2FxvyMMw%3D%3D&_type=json&kaptCode={아파트코드}'\n",
        "    response = requests.get(url)\n",
        "    data = {}\n",
        "    if 아파트코드 == '없음':\n",
        "        print('아파트 없음')\n",
        "        pass\n",
        "    else:\n",
        "        ex1 = response.json()['response']['body']['item']\n",
        "        data['아파트명'] = ex1['kaptName']\n",
        "        data['아파트 code'] = ex1['kaptCode']\n",
        "        data['법정동코드'] = ex1['bjdCode']\n",
        "        data['아파트 세대수'] = ex1['kaptdaCnt']\n",
        "        print(data)\n",
        "        아파트세대수.append(data)"
      ]
    }
  ],
  "metadata": {
    "colab": {
      "provenance": [],
      "include_colab_link": true
    },
    "kernelspec": {
      "display_name": "base",
      "language": "python",
      "name": "python3"
    },
    "language_info": {
      "codemirror_mode": {
        "name": "ipython",
        "version": 3
      },
      "file_extension": ".py",
      "mimetype": "text/x-python",
      "name": "python",
      "nbconvert_exporter": "python",
      "pygments_lexer": "ipython3",
      "version": "3.9.13"
    },
    "orig_nbformat": 4
  },
  "nbformat": 4,
  "nbformat_minor": 0
}