{
 "cells": [
  {
   "attachments": {},
   "cell_type": "markdown",
   "metadata": {},
   "source": [
    "#서울시 공공 API"
   ]
  },
  {
   "cell_type": "code",
   "execution_count": null,
   "metadata": {},
   "outputs": [],
   "source": [
    "import json\n",
    "import requests\n",
    "\n",
    "\n",
    "url=\"http://openapi.seoul.go.kr:8088/496c4345786c6d6c313032704d49454a/json/tpssSubwayPassenger/1/423/\"\n",
    "response = requests.get(url)\n",
    "data = response.json()\n",
    "data"
   ]
  },
  {
   "cell_type": "code",
   "execution_count": null,
   "metadata": {},
   "outputs": [],
   "source": [
    "data = response.json()\n",
    "subway = []\n",
    "\n",
    "for i in data['tpssSubwayPassenger']['row']:\n",
    "    data = {}\n",
    "    data['날짜'] = i['CRTR_DT']\n",
    "    data['행정동 ID'] = i['ADMDONG_ID']\n",
    "    data['지하철 승객 수'] = i['SBWY_PSGR_CNT']\n",
    "\n",
    "    subway.append(data)\n",
    "\n",
    "subway"
   ]
  },
  {
   "cell_type": "code",
   "execution_count": null,
   "metadata": {},
   "outputs": [],
   "source": [
    "subway_df = pd.DataFrame(subway)\n",
    "subway_df"
   ]
  },
  {
   "cell_type": "code",
   "execution_count": null,
   "metadata": {},
   "outputs": [],
   "source": [
    "import json\n",
    "import requests\n",
    "\n",
    "url=\"http://openapi.seoul.go.kr:8088/496c4345786c6d6c313032704d49454a/json/tpssEmdBus/1/423/\"\n",
    "response = requests.get(url)\n",
    "response.status_code"
   ]
  },
  {
   "cell_type": "code",
   "execution_count": null,
   "metadata": {},
   "outputs": [],
   "source": [
    "data = response.json()\n",
    "bus = []\n",
    "\n",
    "for i in data['tpssEmdBus']['row']:\n",
    "    data = {}\n",
    "    data['행정동 ID'] = i['ADMDONG_ID']\n",
    "    data['버스 승객 수'] = i['BUS_PSGR_CNT']\n",
    "\n",
    "    bus.append(data)\n",
    "\n",
    "bus"
   ]
  },
  {
   "cell_type": "code",
   "execution_count": null,
   "metadata": {},
   "outputs": [],
   "source": [
    "bus_df = pd.DataFrame(bus)\n",
    "bus_df.head()\n",
    "\n",
    "bus_list=list(bus_df['행정동 ID'])\n",
    "type(bus_list)\n",
    "bus_list"
   ]
  },
  {
   "attachments": {},
   "cell_type": "markdown",
   "metadata": {},
   "source": [
    "행정동 데이터"
   ]
  },
  {
   "cell_type": "code",
   "execution_count": null,
   "metadata": {},
   "outputs": [],
   "source": [
    "url='http://openapi.seoul.go.kr:8088/496c4345786c6d6c313032704d49454a/json/districtEmd/1/424/'\n",
    "response = requests.get(url)\n",
    "response.status_code\n",
    "\n",
    "#데이터 가져오기\n",
    "data = response.json()\n",
    "dong = []\n",
    "\n",
    "for j in data['districtEmd']['row']:\n",
    "    data = {}\n",
    "    data['행정동 ID'] = j['ADMDONG_ID']\n",
    "    data['시'] = j['SIDO_NM']\n",
    "    data['구'] = j['ATDRC_NM']\n",
    "    data['동'] = j['ADMDONG_NM']\n",
    "    dong.append(data)\n",
    "\n",
    "dong_df = pd.DataFrame(dong)\n",
    "dong_df = dong_df[dong_df['시']=='서울']\n",
    "dong_df"
   ]
  },
  {
   "cell_type": "code",
   "execution_count": null,
   "metadata": {},
   "outputs": [],
   "source": [
    "url='http://openapi.seoul.go.kr:8088/496c4345786c6d6c313032704d49454a/json/districtEmd/1/424/'\n",
    "response = requests.get(url)\n",
    "response.status_code\n",
    "\n",
    "#데이터 가져오기\n",
    "data = response.json()\n",
    "data['districtEmd']['row']"
   ]
  },
  {
   "attachments": {},
   "cell_type": "markdown",
   "metadata": {},
   "source": [
    "#카카오 맵 API"
   ]
  },
  {
   "cell_type": "code",
   "execution_count": 2,
   "metadata": {},
   "outputs": [
    {
     "data": {
      "text/plain": [
       "[[0, 127.057086, 37.665656, '담꾹 마들역점'],\n",
       " [1, 126.8536662, 37.519205, '담꾹 신정네거리역점'],\n",
       " [2, 127.0215179, 37.6066014, '담꾹 길음점'],\n",
       " [3, 127.0582641, 37.6300099, '담꾹 월계점'],\n",
       " [4, 126.9037963, 37.570041, '담꾹 성산시영점']]"
      ]
     },
     "execution_count": 2,
     "metadata": {},
     "output_type": "execute_result"
    }
   ],
   "source": [
    "#담꾹 좌표 불러오기\n",
    "import pandas as pd\n",
    "x_y = pd.read_csv('/Users/lmln8/Desktop/damgguk_latitude.csv').values.tolist()\n",
    "x_y[:5]"
   ]
  },
  {
   "attachments": {},
   "cell_type": "markdown",
   "metadata": {},
   "source": [
    "#인근 밀키트 매장 갯수 구하기"
   ]
  },
  {
   "cell_type": "code",
   "execution_count": null,
   "metadata": {},
   "outputs": [],
   "source": [
    "import requests\n",
    "import json\n",
    "import pandas as pd\n",
    "\n",
    "url = 'https://dapi.kakao.com/v2/local/search/keyword.json'\n",
    "\n",
    "인근_밀키트_매장_수= []\n",
    "\n",
    "for i in range(len(x_y)):\n",
    "\n",
    "    data = {}\n",
    "    \n",
    "    mil_name = x_y[i][3]\n",
    "    mil_x = x_y[i][1]\n",
    "    mil_y = x_y[i][2]\n",
    "\n",
    "    params = {'query' : '밀키트',\n",
    "                'x' : mil_x,\n",
    "                'y' : mil_y,\n",
    "                'radius' : 1000}\n",
    "\n",
    "    kakao_key = '2dc142a121aa04c7f2cf477c8daa9074'\n",
    "\n",
    "    milkit = requests.get(url = url, \n",
    "                            params = params, \n",
    "                            headers = {\"Authorization\":f\"KakaoAK {kakao_key}\"}).json()[\"documents\"]\n",
    "    mil_cnt = len(milkit)\n",
    "\n",
    "    #데이터 넣기\n",
    "    data['매장명'] = mil_name\n",
    "    data['인근 밀키트 매장 수'] = mil_cnt\n",
    "\n",
    "    인근_밀키트_매장_수.append(data)\n",
    "\n",
    "인근_밀키트_매장_수 = pd.DataFrame(인근_밀키트_매장_수)\n",
    "인근_밀키트_매장_수    \n"
   ]
  },
  {
   "cell_type": "code",
   "execution_count": null,
   "metadata": {},
   "outputs": [],
   "source": [
    "#output\n",
    "인근_밀키트_매장_수.to_csv(\"/Users/lmln8/Desktop/인근 밀키트 매장 수 (1km).csv\", encoding=\"utf-8-sig\")"
   ]
  },
  {
   "attachments": {},
   "cell_type": "markdown",
   "metadata": {},
   "source": [
    "#인근 대형마트 매장 갯수 구하기"
   ]
  },
  {
   "cell_type": "code",
   "execution_count": 5,
   "metadata": {},
   "outputs": [
    {
     "data": {
      "text/html": [
       "<div>\n",
       "<style scoped>\n",
       "    .dataframe tbody tr th:only-of-type {\n",
       "        vertical-align: middle;\n",
       "    }\n",
       "\n",
       "    .dataframe tbody tr th {\n",
       "        vertical-align: top;\n",
       "    }\n",
       "\n",
       "    .dataframe thead th {\n",
       "        text-align: right;\n",
       "    }\n",
       "</style>\n",
       "<table border=\"1\" class=\"dataframe\">\n",
       "  <thead>\n",
       "    <tr style=\"text-align: right;\">\n",
       "      <th></th>\n",
       "      <th>매장명</th>\n",
       "      <th>인근 대형마트 매장 수</th>\n",
       "    </tr>\n",
       "  </thead>\n",
       "  <tbody>\n",
       "    <tr>\n",
       "      <th>0</th>\n",
       "      <td>담꾹 마들역점</td>\n",
       "      <td>1</td>\n",
       "    </tr>\n",
       "    <tr>\n",
       "      <th>1</th>\n",
       "      <td>담꾹 신정네거리역점</td>\n",
       "      <td>0</td>\n",
       "    </tr>\n",
       "    <tr>\n",
       "      <th>2</th>\n",
       "      <td>담꾹 길음점</td>\n",
       "      <td>2</td>\n",
       "    </tr>\n",
       "    <tr>\n",
       "      <th>3</th>\n",
       "      <td>담꾹 월계점</td>\n",
       "      <td>3</td>\n",
       "    </tr>\n",
       "    <tr>\n",
       "      <th>4</th>\n",
       "      <td>담꾹 성산시영점</td>\n",
       "      <td>1</td>\n",
       "    </tr>\n",
       "    <tr>\n",
       "      <th>...</th>\n",
       "      <td>...</td>\n",
       "      <td>...</td>\n",
       "    </tr>\n",
       "    <tr>\n",
       "      <th>67</th>\n",
       "      <td>담꾹 중화역점</td>\n",
       "      <td>0</td>\n",
       "    </tr>\n",
       "    <tr>\n",
       "      <th>68</th>\n",
       "      <td>담꾹 길동복조리시장점</td>\n",
       "      <td>1</td>\n",
       "    </tr>\n",
       "    <tr>\n",
       "      <th>69</th>\n",
       "      <td>담꾹 앙원역점</td>\n",
       "      <td>0</td>\n",
       "    </tr>\n",
       "    <tr>\n",
       "      <th>70</th>\n",
       "      <td>담꾹 대치점</td>\n",
       "      <td>1</td>\n",
       "    </tr>\n",
       "    <tr>\n",
       "      <th>71</th>\n",
       "      <td>담꾹 방학역점</td>\n",
       "      <td>2</td>\n",
       "    </tr>\n",
       "  </tbody>\n",
       "</table>\n",
       "<p>72 rows × 2 columns</p>\n",
       "</div>"
      ],
      "text/plain": [
       "            매장명  인근 대형마트 매장 수\n",
       "0       담꾹 마들역점             1\n",
       "1    담꾹 신정네거리역점             0\n",
       "2        담꾹 길음점             2\n",
       "3        담꾹 월계점             3\n",
       "4      담꾹 성산시영점             1\n",
       "..          ...           ...\n",
       "67      담꾹 중화역점             0\n",
       "68  담꾹 길동복조리시장점             1\n",
       "69      담꾹 앙원역점             0\n",
       "70       담꾹 대치점             1\n",
       "71      담꾹 방학역점             2\n",
       "\n",
       "[72 rows x 2 columns]"
      ]
     },
     "execution_count": 5,
     "metadata": {},
     "output_type": "execute_result"
    }
   ],
   "source": [
    "import requests\n",
    "import json\n",
    "import pandas as pd\n",
    "\n",
    "url = 'https://dapi.kakao.com/v2/local/search/keyword.json'\n",
    "\n",
    "인근_대형마트_매장_수= []\n",
    "\n",
    "for i in range(len(x_y)):\n",
    "\n",
    "    data = {}\n",
    "    \n",
    "    mil_name = x_y[i][3]\n",
    "    mil_x = x_y[i][1]\n",
    "    mil_y = x_y[i][2]\n",
    "\n",
    "    params = {'query' : '대형마트',\n",
    "                'x' : mil_x,\n",
    "                'y' : mil_y,\n",
    "                'radius' : 1000}\n",
    "\n",
    "    kakao_key = '2dc142a121aa04c7f2cf477c8daa9074'\n",
    "\n",
    "    milkit = requests.get(url = url, \n",
    "                            params = params, \n",
    "                            headers = {\"Authorization\":f\"KakaoAK {kakao_key}\"}).json()[\"documents\"]\n",
    "    mart_cnt = len(milkit)\n",
    "\n",
    "    #데이터 넣기\n",
    "    data['매장명'] = mil_name\n",
    "    data['인근 대형마트 매장 수'] = mart_cnt\n",
    "\n",
    "    인근_대형마트_매장_수.append(data)\n",
    "\n",
    "인근_대형마트_매장_수 = pd.DataFrame(인근_대형마트_매장_수)\n",
    "인근_대형마트_매장_수"
   ]
  },
  {
   "cell_type": "code",
   "execution_count": null,
   "metadata": {},
   "outputs": [],
   "source": [
    "#output\n",
    "인근_대형마트_매장_수.to_csv(\"/Users/lmln8/Desktop/인근 대형마트 매장 수 (1km).csv\", encoding=\"utf-8-sig\")"
   ]
  },
  {
   "cell_type": "code",
   "execution_count": null,
   "metadata": {},
   "outputs": [],
   "source": [
    "mil_name = x_y[7][3]\n",
    "mil_x = x_y[7][1]\n",
    "mil_y = x_y[7][2]\n",
    "\n",
    "params = {'query' : '아파트',\n",
    "        'x' : mil_x,\n",
    "        'y' : mil_y,\n",
    "        'page' : 1,\n",
    "        'page_size': 45,\n",
    "        'radius' : 500}\n",
    "header = {\"Authorization\":f\"KakaoAK {kakao_key}\"}\n",
    "\n",
    "milkit = requests.get(url = url, \n",
    "        params = params, \n",
    "        headers = header).json()\n",
    "\n",
    "milkit"
   ]
  },
  {
   "attachments": {},
   "cell_type": "markdown",
   "metadata": {},
   "source": [
    "인근 편의점 개수"
   ]
  },
  {
   "cell_type": "code",
   "execution_count": null,
   "metadata": {},
   "outputs": [],
   "source": [
    "import requests\n",
    "import json\n",
    "import pandas as pd\n",
    "\n",
    "url = 'https://dapi.kakao.com/v2/local/search/keyword.json'\n",
    "kakao_key = '2dc142a121aa04c7f2cf477c8daa9074'\n",
    "\n",
    "인근_편의점_매장_수= []\n",
    "\n",
    "\n",
    "for i in range(len(x_y)):\n",
    "    \n",
    "    stop = True\n",
    "\n",
    "    conv_cnt = 0\n",
    "    page = 1\n",
    "    page_size = 45\n",
    "\n",
    "    data = {}\n",
    "    \n",
    "    mil_name = x_y[i][3]\n",
    "    mil_x = x_y[i][1]\n",
    "    mil_y = x_y[i][2]\n",
    "\n",
    "    while stop:\n",
    "        params = {'query' : '아파트',\n",
    "            'x' : mil_x,\n",
    "            'y' : mil_y,\n",
    "            'page' : page,\n",
    "            'page_size': page_size,\n",
    "            'radius' : 500}\n",
    "        header = {\"Authorization\":f\"KakaoAK {kakao_key}\"}\n",
    "\n",
    "        milkit = requests.get(url = url, \n",
    "                                params = params, \n",
    "                                headers = header).json()\n",
    "        \n",
    "        conv_cnt += len(milkit['documents'])\n",
    "\n",
    "        if milkit['meta']['is_end'] == False:\n",
    "            stop = True\n",
    "            page += 1\n",
    "        else:\n",
    "            stop = False\n",
    "\n",
    "    #데이터 넣기\n",
    "    data['매장명'] = mil_name\n",
    "    data['인근 편의점 매장 수'] = conv_cnt\n",
    "\n",
    "    인근_편의점_매장_수.append(data)\n",
    "\n",
    "인근_편의점_매장_수 = pd.DataFrame(인근_편의점_매장_수)\n",
    "\n",
    "\n"
   ]
  },
  {
   "cell_type": "code",
   "execution_count": null,
   "metadata": {},
   "outputs": [],
   "source": [
    "#output\n",
    "인근_편의점_매장_수.to_csv(\"/Users/lmln8/Desktop/인근 편의점 매장 수 (500m).csv\", encoding=\"utf-8-sig\")"
   ]
  },
  {
   "attachments": {},
   "cell_type": "markdown",
   "metadata": {},
   "source": [
    "인근 대학 정원수"
   ]
  },
  {
   "cell_type": "code",
   "execution_count": 4,
   "metadata": {},
   "outputs": [],
   "source": [
    "import requests\n",
    "import json\n",
    "import pandas as pd\n",
    "\n",
    "url = 'https://dapi.kakao.com/v2/local/search/keyword.json'\n",
    "kakao_key = '2dc142a121aa04c7f2cf477c8daa9074'\n",
    "\n",
    "인근_대학_수= []\n",
    "\n",
    "\n",
    "for i in range(len(x_y)):\n",
    "    \n",
    "    stop = True\n",
    "\n",
    "    univ_cnt = 0\n",
    "    page = 1\n",
    "    page_size = 45\n",
    "\n",
    "    data = {}\n",
    "    \n",
    "    mil_name = x_y[i][3]\n",
    "    mil_x = x_y[i][1]\n",
    "    mil_y = x_y[i][2]\n",
    "\n",
    "    while stop:\n",
    "        params = {'query' : '대학교',\n",
    "            'x' : mil_x,\n",
    "            'y' : mil_y,\n",
    "            'page' : page,\n",
    "            'page_size': page_size,\n",
    "            'radius' : 500}\n",
    "        header = {\"Authorization\":f\"KakaoAK {kakao_key}\"}\n",
    "\n",
    "        milkit = requests.get(url = url, \n",
    "                                params = params, \n",
    "                                headers = header).json()\n",
    "        \n",
    "        univ_cnt += len(milkit['documents'])\n",
    "\n",
    "        if milkit['meta']['is_end'] == False:\n",
    "            stop = True\n",
    "            page += 1\n",
    "        else:\n",
    "            stop = False\n",
    "\n",
    "    #데이터 넣기\n",
    "    data['매장명'] = mil_name\n",
    "    data['인근 대학 수'] = univ_cnt\n",
    "\n",
    "    인근_대학_수.append(data)\n",
    "\n",
    "인근_대학_수 = pd.DataFrame(인근_대학_수)\n"
   ]
  },
  {
   "cell_type": "code",
   "execution_count": null,
   "metadata": {},
   "outputs": [],
   "source": [
    "#output\n",
    "인근_대학_수.to_csv(\"/Users/lmln8/Desktop/인근 대학 수(1km).csv\", encoding=\"utf-8-sig\")"
   ]
  },
  {
   "attachments": {},
   "cell_type": "markdown",
   "metadata": {},
   "source": [
    "인근 아파트 세대수"
   ]
  },
  {
   "cell_type": "code",
   "execution_count": null,
   "metadata": {},
   "outputs": [],
   "source": []
  },
  {
   "cell_type": "code",
   "execution_count": null,
   "metadata": {},
   "outputs": [],
   "source": []
  },
  {
   "attachments": {},
   "cell_type": "markdown",
   "metadata": {},
   "source": [
    "#좌표로 행정동 추출"
   ]
  },
  {
   "cell_type": "code",
   "execution_count": null,
   "metadata": {},
   "outputs": [],
   "source": [
    "url = 'https://dapi.kakao.com/v2/local/geo/coord2regioncode.json'\n",
    "kakao_key = '2dc142a121aa04c7f2cf477c8daa9074'\n",
    "\n",
    "\n",
    "담꾹_행정동 = []\n",
    "\n",
    "for i in range(len(x_y)):\n",
    "\n",
    "    mil_name = x_y[i][3]\n",
    "    mil_x = x_y[i][1]\n",
    "    mil_y = x_y[i][2]\n",
    "\n",
    "    params = {'x' : mil_x,\n",
    "              'y' : mil_y}\n",
    "\n",
    "    hjd = requests.get(url = url, \n",
    "                        params = params, \n",
    "                        headers = {\"Authorization\":f\"KakaoAK {kakao_key}\"}).json()['documents'][1]\n",
    "\n",
    "    data = {}\n",
    "\n",
    "    #데이터 입력\n",
    "    data['매장명'] = mil_name\n",
    "    data['행정동 code'] = hjd[\"code\"]\n",
    "    data['행정동 주소'] = hjd[\"address_name\"]\n",
    "    data['시'] = hjd[\"region_1depth_name\"]\n",
    "    data['구'] = hjd[\"region_2depth_name\"]\n",
    "    data['동'] = hjd[\"region_3depth_name\"]\n",
    "    data['etc'] = hjd[\"region_4depth_name\"]\n",
    "    data['경도'] = mil_y\n",
    "    data['위도'] = mil_x\n",
    "\n",
    "    담꾹_행정동.append(data)\n",
    "\n",
    "담꾹_행정동 = pd.DataFrame(담꾹_행정동)"
   ]
  },
  {
   "attachments": {},
   "cell_type": "markdown",
   "metadata": {},
   "source": [
    "#최종 데이터 병합"
   ]
  },
  {
   "cell_type": "code",
   "execution_count": null,
   "metadata": {},
   "outputs": [],
   "source": [
    "담꾹_지도API_최종 = pd.merge(담꾹_행정동, 인근_밀키트_매장_수, on = \"매장명\", how = \"inner\")\n",
    "담꾹_지도API_최종 = pd.merge(담꾹_지도API_최종, 인근_편의점_매장_수, on = \"매장명\", how = \"inner\")\n",
    "담꾹_지도API_최종 = pd.merge(담꾹_지도API_최종, 인근_대형마트_매장_수, on = \"매장명\", how = \"inner\")\n",
    "담꾹_지도API_최종"
   ]
  },
  {
   "cell_type": "code",
   "execution_count": null,
   "metadata": {},
   "outputs": [],
   "source": [
    "#output\n",
    "담꾹_지도API_최종.to_csv(\"/Users/lmln8/Desktop/담꾹 지도API 최종.csv\", encoding=\"utf-8-sig\")"
   ]
  },
  {
   "cell_type": "code",
   "execution_count": null,
   "metadata": {},
   "outputs": [],
   "source": [
    "import pandas as pd\n",
    "import requests\n",
    "아파트코드_최종 = pd.read_csv('/Users/lmln8/Desktop/아파트코드_최종_없음삭제.csv').values.tolist()\n",
    "아파트세대수 = []\n",
    "for bjd_code in range(30):\n",
    "    아파트코드 = 아파트코드_최종[bjd_code][2]\n",
    "    url = f'https://apis.data.go.kr/1613000/AptBasisInfoService1/getAphusBassInfo?serviceKey=lcjsLidzgyNDrzi7pA5P0N5zo4z80gxg5NfxMgOGEQnHylY3PO5AicJgFHwU3vaR8zuiE%2B6k2O1ojfc%2FxvyMMw%3D%3D&_type=json&kaptCode={아파트코드}'\n",
    "    response = requests.get(url)\n",
    "    data = {}\n",
    "    if 아파트코드 == '없음':\n",
    "        print('아파트 없음')\n",
    "        pass\n",
    "    else:\n",
    "        ex1 = response.json()['response']['body']['item']\n",
    "        data['아파트명'] = ex1['kaptName']\n",
    "        data['아파트 code'] = ex1['kaptCode']\n",
    "        data['법정동코드'] = ex1['bjdCode']\n",
    "        data['아파트 세대수'] = ex1['kaptdaCnt']\n",
    "        print(data)\n",
    "        아파트세대수.append(data)"
   ]
  }
 ],
 "metadata": {
  "kernelspec": {
   "display_name": "base",
   "language": "python",
   "name": "python3"
  },
  "language_info": {
   "codemirror_mode": {
    "name": "ipython",
    "version": 3
   },
   "file_extension": ".py",
   "mimetype": "text/x-python",
   "name": "python",
   "nbconvert_exporter": "python",
   "pygments_lexer": "ipython3",
   "version": "3.9.13"
  },
  "orig_nbformat": 4
 },
 "nbformat": 4,
 "nbformat_minor": 2
}
